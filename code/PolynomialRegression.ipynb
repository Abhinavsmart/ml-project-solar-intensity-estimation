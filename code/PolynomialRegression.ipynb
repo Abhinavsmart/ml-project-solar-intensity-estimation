{
  "nbformat": 4,
  "nbformat_minor": 0,
  "metadata": {
    "colab": {
      "name": "PolynomialRegression.ipynb",
      "provenance": []
    },
    "kernelspec": {
      "name": "python3",
      "display_name": "Python 3"
    },
    "language_info": {
      "name": "python"
    }
  },
  "cells": [
    {
      "cell_type": "markdown",
      "metadata": {
        "id": "bzI_cSMfTppn"
      },
      "source": [
        "# Import Statements\n",
        "\n"
      ]
    },
    {
      "cell_type": "code",
      "metadata": {
        "id": "XLr0SphwTolz"
      },
      "source": [
        "import pandas as pd\n",
        "import numpy as np\n",
        "import matplotlib.pyplot as plt\n",
        "\n",
        "import pickle\n",
        "\n",
        "import sklearn\n",
        "from sklearn.linear_model import LinearRegression\n",
        "from sklearn.model_selection import train_test_split\n",
        "from sklearn.preprocessing import PolynomialFeatures\n",
        "from sklearn import metrics"
      ],
      "execution_count": 1,
      "outputs": []
    },
    {
      "cell_type": "markdown",
      "metadata": {
        "id": "dQu2HyPzTvqt"
      },
      "source": [
        "# Data Preprocessing"
      ]
    },
    {
      "cell_type": "code",
      "metadata": {
        "id": "Jttm4RxiT13X",
        "colab": {
          "base_uri": "https://localhost:8080/"
        },
        "outputId": "f17e1d55-872c-4c0b-97cf-6b49ee366d52"
      },
      "source": [
        "# data Loading\n",
        "from google.colab import drive\n",
        "drive.mount('/content/drive')\n",
        "df = pd.read_csv(\"/content/drive/MyDrive/nevada_weather.csv\")"
      ],
      "execution_count": 2,
      "outputs": [
        {
          "output_type": "stream",
          "name": "stdout",
          "text": [
            "Drive already mounted at /content/drive; to attempt to forcibly remount, call drive.mount(\"/content/drive\", force_remount=True).\n"
          ]
        }
      ]
    },
    {
      "cell_type": "code",
      "metadata": {
        "id": "GQnRD4HST6nq"
      },
      "source": [
        "# dropping the year column\n",
        "df.drop(\"Year\",axis=1, inplace=True)"
      ],
      "execution_count": 3,
      "outputs": []
    },
    {
      "cell_type": "code",
      "metadata": {
        "id": "qT4DBdJNT9Hy"
      },
      "source": [
        "# mapping isDay (false/true) -> (0/1)\n",
        "df.replace(to_replace=True, value=1, inplace=True)\n",
        "df.replace(to_replace=False, value=0, inplace=True)"
      ],
      "execution_count": 4,
      "outputs": []
    },
    {
      "cell_type": "code",
      "metadata": {
        "id": "Qzx52xPIUECa"
      },
      "source": [
        "# dropping columns (refer preprocesssing notebook for details)\n",
        "df = df.drop([\"DHI\", \"Clearsky DHI\", \"Clearsky DNI\", \"Clearsky GHI\", \"DNI\", \"Fill Flag\", \"Dew Point\"], axis = 1)"
      ],
      "execution_count": 5,
      "outputs": []
    },
    {
      "cell_type": "markdown",
      "metadata": {
        "id": "rucbdCCfUKM4"
      },
      "source": [
        "# Model Spilting"
      ]
    },
    {
      "cell_type": "code",
      "metadata": {
        "id": "_IuwoGSsUG1H"
      },
      "source": [
        "# Mapping: features (current time) -> GHI value (48 hours into the future)\n",
        "total_records = len(df)\n",
        "features = df[:total_records-288].drop('GHI', axis=1).reset_index()\n",
        "output = df['GHI'][288:].reset_index()\n",
        "df = pd.concat([features, output], join='inner', axis=1)\n",
        "df.drop(['index'], axis=1, inplace=True)"
      ],
      "execution_count": 6,
      "outputs": []
    },
    {
      "cell_type": "code",
      "metadata": {
        "id": "O84_x5XKUNkX"
      },
      "source": [
        "# splitting the dataset into two: day and night\n",
        "df_day = df[df.is_day == 1].drop('is_day', axis=1)\n",
        "df_night = df[df.is_day == 0].drop('is_day', axis=1)"
      ],
      "execution_count": 7,
      "outputs": []
    },
    {
      "cell_type": "code",
      "metadata": {
        "id": "j-E7LshGUQXw"
      },
      "source": [
        "def feature_output_split(x):\n",
        "  '''\n",
        "  split the data into features (weather observations) and output (GHI) sets\n",
        "  x: initial dataset\n",
        "  returns: two datasets (feature & output)\n",
        "  '''\n",
        "  \n",
        "  total_records = len(x)\n",
        "  features = x.drop('GHI', axis=1)\n",
        "  output = x['GHI']\n",
        "\n",
        "  return features, output"
      ],
      "execution_count": 8,
      "outputs": []
    },
    {
      "cell_type": "code",
      "metadata": {
        "id": "bFoeydGkUSGA"
      },
      "source": [
        "# feature-output split for the whole data (df), day data (df_day) & night data (df_night)\n",
        "feature_df, GHI = feature_output_split(df)\n",
        "day_feature_df, day_GHI = feature_output_split(df_day)\n",
        "night_feature_df, night_GHI = feature_output_split(df_night)"
      ],
      "execution_count": 9,
      "outputs": []
    },
    {
      "cell_type": "code",
      "metadata": {
        "id": "XKGI948AUUrF"
      },
      "source": [
        "# train-test split for the whole data (df), day data (df_day) & night data (df_night)\n",
        "x_train, x_test, y_train, y_test = train_test_split(feature_df, GHI, test_size=.20, random_state=42)\n",
        "day_x_train, day_x_test, day_y_train, day_y_test = train_test_split(day_feature_df, day_GHI, test_size=.20, random_state=42)\n",
        "night_x_train, night_x_test, night_y_train, night_y_test = train_test_split(night_feature_df, night_GHI, test_size=.20, random_state=42)"
      ],
      "execution_count": 10,
      "outputs": []
    },
    {
      "cell_type": "markdown",
      "metadata": {
        "id": "0tJBfoUY4HLU"
      },
      "source": [
        "# Polynomial Regression"
      ]
    },
    {
      "cell_type": "code",
      "metadata": {
        "id": "WTbPncnxqkqx"
      },
      "source": [
        "def combine_result(y1, y1_pred, y2, y2_pred):\n",
        "  combined_y_pred = np.concatenate([y1_pred, y2_pred])\n",
        "  combined_y = np.concatenate([y1, y2])\n",
        "  rmse = metrics.mean_squared_error(combined_y, combined_y_pred) ** 0.5\n",
        "  return rmse"
      ],
      "execution_count": 16,
      "outputs": []
    },
    {
      "cell_type": "code",
      "metadata": {
        "id": "Hmz1uan7KjDr"
      },
      "source": [
        "def apply_polynomial_regression(x_train, y_train, x_test, y_test, n, filename):\n",
        "  '''\n",
        "  applies polynomial regression on the train data (x_train, y_train),\n",
        "  and uses the same to print the train and test RMSE\n",
        "  \n",
        "  it also saves the model in pickel file ('filename')\n",
        "  '''\n",
        "\n",
        "  # polynomial expansion\n",
        "  poly_reg = PolynomialFeatures(degree= n)\n",
        "  poly_x_train = poly_reg.fit_transform(x_train) \n",
        "  poly_x_test = poly_reg.fit_transform(x_test)\n",
        "  \n",
        "  # training\n",
        "  linear = LinearRegression()\n",
        "  linear.fit(poly_x_train, y_train)\n",
        "  # save the model to disk\n",
        "  pickle.dump(linear, open(\"../Weights/\" + filename, 'wb'))\n",
        "\n",
        "  print(\"n= \", n)\n",
        "  y_train_pred = linear.predict(poly_x_train)\n",
        "  train_rmse = metrics.mean_squared_error(y_train, y_train_pred) ** 0.5\n",
        "  print(\"Train RMSE: \", train_rmse)\n",
        "  y_test_pred = linear.predict(poly_x_test)\n",
        "  test_rmse = metrics.mean_squared_error(y_test, y_test_pred) ** 0.5\n",
        "  print(\"Test RMSE: \", test_rmse)"
      ],
      "execution_count": 11,
      "outputs": []
    },
    {
      "cell_type": "code",
      "metadata": {
        "id": "82kwAg96KmTi",
        "colab": {
          "base_uri": "https://localhost:8080/"
        },
        "outputId": "9466270c-4d16-4a81-c01f-a4ebf57ca708"
      },
      "source": [
        "# whole data\n",
        "for n in [2, 3, 4]:\n",
        "  apply_polynomial_regression(x_train, y_train, x_test, y_test, n, 'Polynomial/whole_' + str(n) + '.pkl')"
      ],
      "execution_count": 12,
      "outputs": [
        {
          "output_type": "stream",
          "name": "stdout",
          "text": [
            "n=  2\n",
            "Train RMSE:  78.94815875127165\n",
            "Test RMSE:  79.76316347309206\n",
            "n=  3\n",
            "Train RMSE:  69.4886579999666\n",
            "Test RMSE:  70.52791023793802\n",
            "n=  4\n",
            "Train RMSE:  51.97700864293026\n",
            "Test RMSE:  55.991477662151105\n"
          ]
        }
      ]
    },
    {
      "cell_type": "code",
      "metadata": {
        "id": "Q9AAxzZxKpA0",
        "colab": {
          "base_uri": "https://localhost:8080/"
        },
        "outputId": "b391ec6b-0034-466a-f593-08f1e5cf719f"
      },
      "source": [
        "# day_time_data\n",
        "for n in [2, 3, 4]:\n",
        "  apply_polynomial_regression(day_x_train, day_y_train, day_x_test, day_y_test, n, 'Polynomial/day_' + str(n) + '.pkl')"
      ],
      "execution_count": 13,
      "outputs": [
        {
          "output_type": "stream",
          "name": "stdout",
          "text": [
            "n=  2\n",
            "Train RMSE:  105.7743335551083\n",
            "Test RMSE:  107.38763474081033\n",
            "n=  3\n",
            "Train RMSE:  88.52632167289764\n",
            "Test RMSE:  91.64781683677313\n",
            "n=  4\n",
            "Train RMSE:  63.07592683607227\n",
            "Test RMSE:  77.7846995811444\n"
          ]
        }
      ]
    },
    {
      "cell_type": "code",
      "metadata": {
        "id": "4gyWq0eVOR26",
        "colab": {
          "base_uri": "https://localhost:8080/"
        },
        "outputId": "2ea5356f-3def-419b-b4dd-6e38d5e30cc8"
      },
      "source": [
        "# night_time_data\n",
        "for n in [2, 3, 4]:\n",
        "  apply_polynomial_regression(night_x_train, night_y_train, night_x_test, night_y_test, n, 'Polynomial/night_' + str(n) + '.pkl')"
      ],
      "execution_count": 14,
      "outputs": [
        {
          "output_type": "stream",
          "name": "stdout",
          "text": [
            "n=  2\n",
            "Train RMSE:  5.629558596699495\n",
            "Test RMSE:  5.547973314118362\n",
            "n=  3\n",
            "Train RMSE:  4.524679098715154\n",
            "Test RMSE:  4.682002823672813\n",
            "n=  4\n",
            "Train RMSE:  3.01223034291004\n",
            "Test RMSE:  3.7496581410984495\n"
          ]
        }
      ]
    },
    {
      "cell_type": "code",
      "metadata": {
        "id": "2vGCjIMhOazO",
        "colab": {
          "base_uri": "https://localhost:8080/"
        },
        "outputId": "ae426ebd-2db7-45df-f3fe-01a0d7cdbfd2"
      },
      "source": [
        "# combining day and night time predictions\n",
        "\n",
        "# day data: polynomial expansion\n",
        "day_poly_reg = PolynomialFeatures(degree= 4)\n",
        "poly_day_x_train = day_poly_reg.fit_transform(day_x_train) \n",
        "poly_day_x_test = day_poly_reg.fit_transform(day_x_test)\n",
        "\n",
        "# night data: polynomial expansion\n",
        "night_poly_reg = PolynomialFeatures(degree= 4)\n",
        "poly_night_x_train = night_poly_reg.fit_transform(night_x_train) \n",
        "poly_night_x_test = night_poly_reg.fit_transform(night_x_test)\n",
        "\n",
        "# training the models\n",
        "day_linear = LinearRegression()\n",
        "day_linear.fit(poly_day_x_train, day_y_train)\n",
        "night_linear = LinearRegression()\n",
        "night_linear.fit(poly_night_x_train, night_y_train)\n",
        "\n",
        "# train RMSE\n",
        "day_y_train_pred = day_linear.predict(poly_day_x_train)\n",
        "night_y_train_pred = night_linear.predict(poly_night_x_train)\n",
        "train_rmse = combine_result(day_y_train, day_y_train_pred, night_y_train, night_y_train_pred)\n",
        "print(\"Train RMSE: \", train_rmse)\n",
        "\n",
        "# test RMSE\n",
        "day_y_test_pred = day_linear.predict(poly_day_x_test)\n",
        "night_y_test_pred = night_linear.predict(poly_night_x_test)\n",
        "test_rmse = combine_result(day_y_test, day_y_test_pred, night_y_test, night_y_test_pred)\n",
        "print(\"Test RMSE: \", test_rmse)"
      ],
      "execution_count": 17,
      "outputs": [
        {
          "output_type": "stream",
          "name": "stdout",
          "text": [
            "Train RMSE:  45.107521105826294\n",
            "Test RMSE:  55.626674792837434\n"
          ]
        }
      ]
    }
  ]
}