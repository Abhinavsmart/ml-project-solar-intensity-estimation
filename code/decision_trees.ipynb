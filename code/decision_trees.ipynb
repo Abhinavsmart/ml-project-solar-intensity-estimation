{
 "cells": [
  {
   "cell_type": "markdown",
   "metadata": {
    "id": "bzI_cSMfTppn"
   },
   "source": [
    "# Import Statements\n",
    "\n"
   ]
  },
  {
   "cell_type": "code",
   "execution_count": 1,
   "metadata": {
    "id": "XLr0SphwTolz"
   },
   "outputs": [],
   "source": [
    "import pandas as pd\n",
    "import numpy as np\n",
    "\n",
    "import matplotlib.pyplot as plt\n",
    "import pylab\n",
    "import scipy.stats as stats\n",
    "import seaborn as sns\n",
    "\n",
    "from io import StringIO\n",
    "import sys\n",
    "\n",
    "import sklearn\n",
    "import sklearn.linear_model as sl\n",
    "from sklearn.linear_model import LinearRegression, Ridge, Lasso\n",
    "from sklearn.model_selection import train_test_split, GroupShuffleSplit, GridSearchCV\n",
    "from sklearn import metrics\n",
    "from sklearn.decomposition import PCA\n",
    "from sklearn.preprocessing import PolynomialFeatures\n",
    "from sklearn.preprocessing import StandardScaler"
   ]
  },
  {
   "cell_type": "markdown",
   "metadata": {
    "id": "dQu2HyPzTvqt"
   },
   "source": [
    "# Data Pre-processing"
   ]
  },
  {
   "cell_type": "markdown",
   "metadata": {
    "id": "FzdowMN8TwnJ"
   },
   "source": [
    "### Data Loading"
   ]
  },
  {
   "cell_type": "code",
   "execution_count": 2,
   "metadata": {
    "id": "uT5A57INT4fB"
   },
   "outputs": [],
   "source": [
    "df = pd.read_csv(\"nevada_weather.csv\")\n",
    "# Dropping Year Column\n",
    "df.drop(\"Year\",axis=1, inplace=True)\n",
    "# Mapping isDay (false/true) -> (0/1)\n",
    "df.replace(to_replace=True, value=1, inplace=True)\n",
    "df.replace(to_replace=False, value=0, inplace=True)\n",
    "# Dropping columns\n",
    "df = df.drop([\"DHI\", \"Clearsky DHI\", \"Clearsky DNI\", \"Clearsky GHI\", \"DNI\", \"Fill Flag\", \"Dew Point\"], axis = 1)"
   ]
  },
  {
   "cell_type": "markdown",
   "metadata": {
    "id": "rucbdCCfUKM4"
   },
   "source": [
    "# Model Splitting"
   ]
  },
  {
   "cell_type": "code",
   "execution_count": 3,
   "metadata": {
    "colab": {
     "base_uri": "https://localhost:8080/",
     "height": 478
    },
    "id": "_IuwoGSsUG1H",
    "outputId": "cbcd1721-107b-4341-ec62-1ca68f5fa1b3"
   },
   "outputs": [
    {
     "data": {
      "text/html": [
       "<div>\n",
       "<style scoped>\n",
       "    .dataframe tbody tr th:only-of-type {\n",
       "        vertical-align: middle;\n",
       "    }\n",
       "\n",
       "    .dataframe tbody tr th {\n",
       "        vertical-align: top;\n",
       "    }\n",
       "\n",
       "    .dataframe thead th {\n",
       "        text-align: right;\n",
       "    }\n",
       "</style>\n",
       "<table border=\"1\" class=\"dataframe\">\n",
       "  <thead>\n",
       "    <tr style=\"text-align: right;\">\n",
       "      <th></th>\n",
       "      <th>Month</th>\n",
       "      <th>Day</th>\n",
       "      <th>Hour</th>\n",
       "      <th>Minute</th>\n",
       "      <th>Temperature</th>\n",
       "      <th>Cloud Type</th>\n",
       "      <th>Ozone</th>\n",
       "      <th>Relative Humidity</th>\n",
       "      <th>Solar Zenith Angle</th>\n",
       "      <th>Surface Albedo</th>\n",
       "      <th>Pressure</th>\n",
       "      <th>Precipitable Water</th>\n",
       "      <th>Wind Direction</th>\n",
       "      <th>Wind Speed</th>\n",
       "      <th>is_day</th>\n",
       "      <th>GHI</th>\n",
       "    </tr>\n",
       "  </thead>\n",
       "  <tbody>\n",
       "    <tr>\n",
       "      <th>0</th>\n",
       "      <td>1</td>\n",
       "      <td>1</td>\n",
       "      <td>0</td>\n",
       "      <td>0</td>\n",
       "      <td>0.6</td>\n",
       "      <td>0</td>\n",
       "      <td>0.342</td>\n",
       "      <td>72.88</td>\n",
       "      <td>167.61</td>\n",
       "      <td>0.14</td>\n",
       "      <td>954</td>\n",
       "      <td>0.4</td>\n",
       "      <td>47</td>\n",
       "      <td>0.5</td>\n",
       "      <td>0</td>\n",
       "      <td>0</td>\n",
       "    </tr>\n",
       "    <tr>\n",
       "      <th>1</th>\n",
       "      <td>1</td>\n",
       "      <td>1</td>\n",
       "      <td>0</td>\n",
       "      <td>10</td>\n",
       "      <td>0.5</td>\n",
       "      <td>0</td>\n",
       "      <td>0.342</td>\n",
       "      <td>73.41</td>\n",
       "      <td>167.56</td>\n",
       "      <td>0.14</td>\n",
       "      <td>954</td>\n",
       "      <td>0.4</td>\n",
       "      <td>53</td>\n",
       "      <td>0.5</td>\n",
       "      <td>0</td>\n",
       "      <td>0</td>\n",
       "    </tr>\n",
       "    <tr>\n",
       "      <th>2</th>\n",
       "      <td>1</td>\n",
       "      <td>1</td>\n",
       "      <td>0</td>\n",
       "      <td>20</td>\n",
       "      <td>0.4</td>\n",
       "      <td>0</td>\n",
       "      <td>0.343</td>\n",
       "      <td>73.94</td>\n",
       "      <td>167.14</td>\n",
       "      <td>0.14</td>\n",
       "      <td>954</td>\n",
       "      <td>0.4</td>\n",
       "      <td>60</td>\n",
       "      <td>0.5</td>\n",
       "      <td>0</td>\n",
       "      <td>0</td>\n",
       "    </tr>\n",
       "    <tr>\n",
       "      <th>3</th>\n",
       "      <td>1</td>\n",
       "      <td>1</td>\n",
       "      <td>0</td>\n",
       "      <td>30</td>\n",
       "      <td>0.4</td>\n",
       "      <td>0</td>\n",
       "      <td>0.343</td>\n",
       "      <td>73.94</td>\n",
       "      <td>166.38</td>\n",
       "      <td>0.14</td>\n",
       "      <td>954</td>\n",
       "      <td>0.4</td>\n",
       "      <td>67</td>\n",
       "      <td>0.5</td>\n",
       "      <td>0</td>\n",
       "      <td>0</td>\n",
       "    </tr>\n",
       "    <tr>\n",
       "      <th>4</th>\n",
       "      <td>1</td>\n",
       "      <td>1</td>\n",
       "      <td>0</td>\n",
       "      <td>40</td>\n",
       "      <td>0.3</td>\n",
       "      <td>0</td>\n",
       "      <td>0.344</td>\n",
       "      <td>73.73</td>\n",
       "      <td>165.33</td>\n",
       "      <td>0.14</td>\n",
       "      <td>954</td>\n",
       "      <td>0.4</td>\n",
       "      <td>74</td>\n",
       "      <td>0.5</td>\n",
       "      <td>0</td>\n",
       "      <td>0</td>\n",
       "    </tr>\n",
       "    <tr>\n",
       "      <th>...</th>\n",
       "      <td>...</td>\n",
       "      <td>...</td>\n",
       "      <td>...</td>\n",
       "      <td>...</td>\n",
       "      <td>...</td>\n",
       "      <td>...</td>\n",
       "      <td>...</td>\n",
       "      <td>...</td>\n",
       "      <td>...</td>\n",
       "      <td>...</td>\n",
       "      <td>...</td>\n",
       "      <td>...</td>\n",
       "      <td>...</td>\n",
       "      <td>...</td>\n",
       "      <td>...</td>\n",
       "      <td>...</td>\n",
       "    </tr>\n",
       "    <tr>\n",
       "      <th>52267</th>\n",
       "      <td>12</td>\n",
       "      <td>29</td>\n",
       "      <td>23</td>\n",
       "      <td>10</td>\n",
       "      <td>6.2</td>\n",
       "      <td>6</td>\n",
       "      <td>0.378</td>\n",
       "      <td>100.00</td>\n",
       "      <td>163.28</td>\n",
       "      <td>0.22</td>\n",
       "      <td>952</td>\n",
       "      <td>1.6</td>\n",
       "      <td>180</td>\n",
       "      <td>0.9</td>\n",
       "      <td>0</td>\n",
       "      <td>0</td>\n",
       "    </tr>\n",
       "    <tr>\n",
       "      <th>52268</th>\n",
       "      <td>12</td>\n",
       "      <td>29</td>\n",
       "      <td>23</td>\n",
       "      <td>20</td>\n",
       "      <td>6.2</td>\n",
       "      <td>6</td>\n",
       "      <td>0.378</td>\n",
       "      <td>100.00</td>\n",
       "      <td>164.68</td>\n",
       "      <td>0.22</td>\n",
       "      <td>952</td>\n",
       "      <td>1.6</td>\n",
       "      <td>175</td>\n",
       "      <td>0.9</td>\n",
       "      <td>0</td>\n",
       "      <td>0</td>\n",
       "    </tr>\n",
       "    <tr>\n",
       "      <th>52269</th>\n",
       "      <td>12</td>\n",
       "      <td>29</td>\n",
       "      <td>23</td>\n",
       "      <td>30</td>\n",
       "      <td>6.3</td>\n",
       "      <td>6</td>\n",
       "      <td>0.379</td>\n",
       "      <td>100.00</td>\n",
       "      <td>165.89</td>\n",
       "      <td>0.22</td>\n",
       "      <td>952</td>\n",
       "      <td>1.6</td>\n",
       "      <td>170</td>\n",
       "      <td>0.9</td>\n",
       "      <td>0</td>\n",
       "      <td>0</td>\n",
       "    </tr>\n",
       "    <tr>\n",
       "      <th>52270</th>\n",
       "      <td>12</td>\n",
       "      <td>29</td>\n",
       "      <td>23</td>\n",
       "      <td>40</td>\n",
       "      <td>6.3</td>\n",
       "      <td>6</td>\n",
       "      <td>0.379</td>\n",
       "      <td>100.00</td>\n",
       "      <td>166.84</td>\n",
       "      <td>0.22</td>\n",
       "      <td>952</td>\n",
       "      <td>1.6</td>\n",
       "      <td>164</td>\n",
       "      <td>0.9</td>\n",
       "      <td>0</td>\n",
       "      <td>0</td>\n",
       "    </tr>\n",
       "    <tr>\n",
       "      <th>52271</th>\n",
       "      <td>12</td>\n",
       "      <td>29</td>\n",
       "      <td>23</td>\n",
       "      <td>50</td>\n",
       "      <td>6.3</td>\n",
       "      <td>6</td>\n",
       "      <td>0.379</td>\n",
       "      <td>100.00</td>\n",
       "      <td>167.49</td>\n",
       "      <td>0.22</td>\n",
       "      <td>952</td>\n",
       "      <td>1.6</td>\n",
       "      <td>159</td>\n",
       "      <td>0.9</td>\n",
       "      <td>0</td>\n",
       "      <td>0</td>\n",
       "    </tr>\n",
       "  </tbody>\n",
       "</table>\n",
       "<p>52272 rows × 16 columns</p>\n",
       "</div>"
      ],
      "text/plain": [
       "       Month  Day  Hour  Minute  Temperature  Cloud Type  Ozone  \\\n",
       "0          1    1     0       0          0.6           0  0.342   \n",
       "1          1    1     0      10          0.5           0  0.342   \n",
       "2          1    1     0      20          0.4           0  0.343   \n",
       "3          1    1     0      30          0.4           0  0.343   \n",
       "4          1    1     0      40          0.3           0  0.344   \n",
       "...      ...  ...   ...     ...          ...         ...    ...   \n",
       "52267     12   29    23      10          6.2           6  0.378   \n",
       "52268     12   29    23      20          6.2           6  0.378   \n",
       "52269     12   29    23      30          6.3           6  0.379   \n",
       "52270     12   29    23      40          6.3           6  0.379   \n",
       "52271     12   29    23      50          6.3           6  0.379   \n",
       "\n",
       "       Relative Humidity  Solar Zenith Angle  Surface Albedo  Pressure  \\\n",
       "0                  72.88              167.61            0.14       954   \n",
       "1                  73.41              167.56            0.14       954   \n",
       "2                  73.94              167.14            0.14       954   \n",
       "3                  73.94              166.38            0.14       954   \n",
       "4                  73.73              165.33            0.14       954   \n",
       "...                  ...                 ...             ...       ...   \n",
       "52267             100.00              163.28            0.22       952   \n",
       "52268             100.00              164.68            0.22       952   \n",
       "52269             100.00              165.89            0.22       952   \n",
       "52270             100.00              166.84            0.22       952   \n",
       "52271             100.00              167.49            0.22       952   \n",
       "\n",
       "       Precipitable Water  Wind Direction  Wind Speed  is_day  GHI  \n",
       "0                     0.4              47         0.5       0    0  \n",
       "1                     0.4              53         0.5       0    0  \n",
       "2                     0.4              60         0.5       0    0  \n",
       "3                     0.4              67         0.5       0    0  \n",
       "4                     0.4              74         0.5       0    0  \n",
       "...                   ...             ...         ...     ...  ...  \n",
       "52267                 1.6             180         0.9       0    0  \n",
       "52268                 1.6             175         0.9       0    0  \n",
       "52269                 1.6             170         0.9       0    0  \n",
       "52270                 1.6             164         0.9       0    0  \n",
       "52271                 1.6             159         0.9       0    0  \n",
       "\n",
       "[52272 rows x 16 columns]"
      ]
     },
     "execution_count": 3,
     "metadata": {},
     "output_type": "execute_result"
    }
   ],
   "source": [
    "# Mapping the data\n",
    "total_records = len(df)\n",
    "features = df[:total_records-288].drop('GHI', axis=1).reset_index()\n",
    "output = df['GHI'][288:].reset_index()\n",
    "df = pd.concat([features, output], join='inner', axis=1)\n",
    "df.drop(['index'], axis=1)"
   ]
  },
  {
   "cell_type": "code",
   "execution_count": 4,
   "metadata": {
    "id": "O84_x5XKUNkX"
   },
   "outputs": [],
   "source": [
    "df_day = df[df.is_day == 1].drop('is_day', axis=1)\n",
    "df_night = df[df.is_day == 0].drop('is_day', axis=1)"
   ]
  },
  {
   "cell_type": "code",
   "execution_count": 5,
   "metadata": {
    "id": "j-E7LshGUQXw"
   },
   "outputs": [],
   "source": [
    "def feature_output_split(x):\n",
    "  total_records = len(x)\n",
    "  features = x.drop('GHI', axis=1)\n",
    "  output = x['GHI']\n",
    "\n",
    "  return features, output"
   ]
  },
  {
   "cell_type": "code",
   "execution_count": 6,
   "metadata": {
    "id": "bFoeydGkUSGA"
   },
   "outputs": [],
   "source": [
    "feature_df, GHI = feature_output_split(df)\n",
    "day_feature_df, day_GHI = feature_output_split(df_day)\n",
    "night_feature_df, night_GHI = feature_output_split(df_night)"
   ]
  },
  {
   "cell_type": "code",
   "execution_count": 7,
   "metadata": {
    "id": "XKGI948AUUrF"
   },
   "outputs": [],
   "source": [
    "x_train, x_test, y_train, y_test = train_test_split(feature_df, GHI, test_size=.20, random_state=42)\n",
    "day_x_train, day_x_test, day_y_train, day_y_test = train_test_split(day_feature_df, day_GHI, test_size=.20, random_state=42)\n",
    "night_x_train, night_x_test, night_y_train, night_y_test = train_test_split(night_feature_df, night_GHI, test_size=.20, random_state=42)"
   ]
  },
  {
   "cell_type": "code",
   "execution_count": 8,
   "metadata": {},
   "outputs": [
    {
     "data": {
      "text/plain": [
       "(21339, 16)"
      ]
     },
     "execution_count": 8,
     "metadata": {},
     "output_type": "execute_result"
    }
   ],
   "source": [
    "day_x_train.shape"
   ]
  },
  {
   "cell_type": "code",
   "execution_count": 9,
   "metadata": {},
   "outputs": [
    {
     "data": {
      "text/plain": [
       "(20478, 16)"
      ]
     },
     "execution_count": 9,
     "metadata": {},
     "output_type": "execute_result"
    }
   ],
   "source": [
    "night_x_train.shape"
   ]
  },
  {
   "cell_type": "code",
   "execution_count": 10,
   "metadata": {},
   "outputs": [
    {
     "data": {
      "text/plain": [
       "(5335, 16)"
      ]
     },
     "execution_count": 10,
     "metadata": {},
     "output_type": "execute_result"
    }
   ],
   "source": [
    "day_x_test.shape"
   ]
  },
  {
   "cell_type": "code",
   "execution_count": 11,
   "metadata": {},
   "outputs": [
    {
     "data": {
      "text/plain": [
       "(5120, 16)"
      ]
     },
     "execution_count": 11,
     "metadata": {},
     "output_type": "execute_result"
    }
   ],
   "source": [
    "night_x_test.shape"
   ]
  },
  {
   "cell_type": "code",
   "execution_count": 12,
   "metadata": {},
   "outputs": [
    {
     "data": {
      "text/plain": [
       "(21339,)"
      ]
     },
     "execution_count": 12,
     "metadata": {},
     "output_type": "execute_result"
    }
   ],
   "source": [
    "day_y_train.shape"
   ]
  },
  {
   "cell_type": "code",
   "execution_count": 13,
   "metadata": {},
   "outputs": [
    {
     "data": {
      "text/plain": [
       "(20478,)"
      ]
     },
     "execution_count": 13,
     "metadata": {},
     "output_type": "execute_result"
    }
   ],
   "source": [
    "night_y_train.shape"
   ]
  },
  {
   "cell_type": "code",
   "execution_count": 14,
   "metadata": {},
   "outputs": [
    {
     "data": {
      "text/plain": [
       "(5335,)"
      ]
     },
     "execution_count": 14,
     "metadata": {},
     "output_type": "execute_result"
    }
   ],
   "source": [
    "day_y_test.shape"
   ]
  },
  {
   "cell_type": "code",
   "execution_count": 15,
   "metadata": {},
   "outputs": [
    {
     "data": {
      "text/plain": [
       "(5120,)"
      ]
     },
     "execution_count": 15,
     "metadata": {},
     "output_type": "execute_result"
    }
   ],
   "source": [
    "night_y_test.shape"
   ]
  },
  {
   "cell_type": "code",
   "execution_count": null,
   "metadata": {
    "colab": {
     "base_uri": "https://localhost:8080/"
    },
    "id": "2DERbf8f5nav",
    "outputId": "72d83882-df28-4512-8cb1-2906629b2d69"
   },
   "outputs": [],
   "source": [
    "# day_y_train = day_y_train.to_numpy().reshape((-1, 1))\n",
    "# day_y_train.shape"
   ]
  },
  {
   "cell_type": "markdown",
   "metadata": {
    "id": "lDxeOqfdARyZ"
   },
   "source": [
    "# Regression Trees"
   ]
  },
  {
   "cell_type": "code",
   "execution_count": 16,
   "metadata": {
    "colab": {
     "base_uri": "https://localhost:8080/"
    },
    "id": "qrffGDRy-Cc5",
    "outputId": "d9b1abc0-eb23-455a-af4d-d3e6ef2aee5e"
   },
   "outputs": [
    {
     "data": {
      "text/plain": [
       "DecisionTreeRegressor(max_depth=10, random_state=0)"
      ]
     },
     "execution_count": 16,
     "metadata": {},
     "output_type": "execute_result"
    }
   ],
   "source": [
    "# decision trees\n",
    "\n",
    "from sklearn.tree import DecisionTreeRegressor\n",
    "day_regressor = DecisionTreeRegressor(random_state=0, max_depth = 10)\n",
    "day_regressor.fit(day_x_train, day_y_train)\n",
    "night_regressor = DecisionTreeRegressor(random_state=0, max_depth = 10)\n",
    "night_regressor.fit(night_x_train, night_y_train)"
   ]
  },
  {
   "cell_type": "code",
   "execution_count": 17,
   "metadata": {
    "id": "c0TyEqQY-Car"
   },
   "outputs": [],
   "source": [
    "day_y_train_pred = day_regressor.predict(day_x_train)\n",
    "day_y_test_pred = day_regressor.predict(day_x_test)\n",
    "\n",
    "night_y_train_pred = night_regressor.predict(night_x_train)\n",
    "night_y_test_pred = night_regressor.predict(night_x_test)"
   ]
  },
  {
   "cell_type": "code",
   "execution_count": 18,
   "metadata": {
    "colab": {
     "base_uri": "https://localhost:8080/"
    },
    "id": "F4Uf38n0-CYb",
    "outputId": "fafc76c9-5b5e-4f5e-a37e-6c9764abba7d"
   },
   "outputs": [
    {
     "name": "stdout",
     "output_type": "stream",
     "text": [
      "day train 73.62167623564\n",
      "day test 87.32806398621588\n",
      "night train 0.8863439109687908\n",
      "night test 2.8768567690150126\n"
     ]
    }
   ],
   "source": [
    "print(\"day train\", metrics.mean_squared_error(day_y_train_pred, day_y_train) ** 0.5)\n",
    "print(\"day test\", metrics.mean_squared_error(day_y_test_pred, day_y_test) ** 0.5)\n",
    "\n",
    "\n",
    "print(\"night train\", metrics.mean_squared_error(night_y_train_pred, night_y_train) ** 0.5)\n",
    "print(\"night test\", metrics.mean_squared_error(night_y_test_pred, night_y_test) ** 0.5)"
   ]
  },
  {
   "cell_type": "code",
   "execution_count": 19,
   "metadata": {
    "colab": {
     "base_uri": "https://localhost:8080/"
    },
    "id": "Fowa-6Z9Fbnc",
    "outputId": "7968dba7-d4f3-4e45-a0af-909555e6f841"
   },
   "outputs": [
    {
     "name": "stdout",
     "output_type": "stream",
     "text": [
      "Train RMSE:  52.595246914772375\n",
      "Test RMSE:  62.41443871450944\n"
     ]
    }
   ],
   "source": [
    "def combine_result(y1, y1_pred, y2, y2_pred):\n",
    "  combined_y_pred = np.concatenate([y1_pred, y2_pred])\n",
    "  combined_y = np.concatenate([y1, y2])\n",
    "  rmse = metrics.mean_squared_error(combined_y, combined_y_pred) ** 0.5\n",
    "  return rmse\n",
    "\n",
    "train_rmse = combine_result(day_y_train, day_y_train_pred, night_y_train, night_y_train_pred)\n",
    "test_rmse = combine_result(day_y_test, day_y_test_pred, night_y_test, night_y_test_pred)\n",
    "\n",
    "print(\"Train RMSE: \", train_rmse)\n",
    "print(\"Test RMSE: \", test_rmse)"
   ]
  },
  {
   "cell_type": "markdown",
   "metadata": {},
   "source": [
    "## Visualise total RMSE for different values of depth"
   ]
  },
  {
   "cell_type": "code",
   "execution_count": 20,
   "metadata": {},
   "outputs": [
    {
     "name": "stdout",
     "output_type": "stream",
     "text": [
      "Train RMSE:  94.32687824147841\n",
      "Test RMSE:  95.240426446735\n",
      "Train RMSE:  78.1136183161037\n",
      "Test RMSE:  79.11249360869482\n",
      "Train RMSE:  70.52983113498178\n",
      "Test RMSE:  73.42492289468524\n",
      "Train RMSE:  63.37679992587552\n",
      "Test RMSE:  67.39892239071304\n",
      "Train RMSE:  52.595246914772375\n",
      "Test RMSE:  62.41443871450944\n",
      "Train RMSE:  41.918002765344006\n",
      "Test RMSE:  62.74483298396859\n",
      "Train RMSE:  32.23521798634503\n",
      "Test RMSE:  59.94841452145116\n",
      "Train RMSE:  22.417241637429896\n",
      "Test RMSE:  59.60937662734252\n",
      "Train RMSE:  13.752885746637386\n",
      "Test RMSE:  58.3295078021935\n",
      "Train RMSE:  7.818186295037468\n",
      "Test RMSE:  59.51749274581537\n",
      "Train RMSE:  4.033071739218156\n",
      "Test RMSE:  60.02443230335947\n",
      "Train RMSE:  1.7036449332346089\n",
      "Test RMSE:  59.36719834605354\n",
      "Train RMSE:  0.8137142454847863\n",
      "Test RMSE:  60.28872620533295\n",
      "Train RMSE:  0.38124663894111777\n",
      "Test RMSE:  59.995348813024385\n",
      "[2, 4, 6, 8, 10, 12, 14, 16, 18, 20, 22, 24, 26, 28]\n",
      "[95.240426446735, 79.11249360869482, 73.42492289468524, 67.39892239071304, 62.41443871450944, 62.74483298396859, 59.94841452145116, 59.60937662734252, 58.3295078021935, 59.51749274581537, 60.02443230335947, 59.36719834605354, 60.28872620533295, 59.995348813024385]\n",
      "[94.32687824147841, 78.1136183161037, 70.52983113498178, 63.37679992587552, 52.595246914772375, 41.918002765344006, 32.23521798634503, 22.417241637429896, 13.752885746637386, 7.818186295037468, 4.033071739218156, 1.7036449332346089, 0.8137142454847863, 0.38124663894111777]\n"
     ]
    }
   ],
   "source": [
    "def combine_result(y1, y1_pred, y2, y2_pred):\n",
    "  combined_y_pred = np.concatenate([y1_pred, y2_pred])\n",
    "  combined_y = np.concatenate([y1, y2])\n",
    "  rmse = metrics.mean_squared_error(combined_y, combined_y_pred) ** 0.5\n",
    "  return rmse\n",
    "\n",
    "\n",
    "max_depths = []\n",
    "train_rmses = []\n",
    "test_rmses = []\n",
    "\n",
    "for max_depth in list(range(2, 30, 2)):\n",
    "    day_regressor = DecisionTreeRegressor(random_state=0, max_depth = max_depth)\n",
    "    day_regressor.fit(day_x_train, day_y_train)\n",
    "    \n",
    "    night_regressor = DecisionTreeRegressor(random_state=0, max_depth = max_depth)\n",
    "    night_regressor.fit(night_x_train, night_y_train)\n",
    "    \n",
    "    day_y_train_pred = day_regressor.predict(day_x_train)\n",
    "    day_y_test_pred = day_regressor.predict(day_x_test)\n",
    "    night_y_train_pred = night_regressor.predict(night_x_train)\n",
    "    night_y_test_pred = night_regressor.predict(night_x_test)\n",
    "    \n",
    "    train_rmse = combine_result(day_y_train, day_y_train_pred, night_y_train, night_y_train_pred)\n",
    "    test_rmse = combine_result(day_y_test, day_y_test_pred, night_y_test, night_y_test_pred)\n",
    "    print(\"Train RMSE: \", train_rmse)\n",
    "    print(\"Test RMSE: \", test_rmse)\n",
    "    max_depths.append(max_depth)\n",
    "    test_rmses.append(test_rmse)\n",
    "    train_rmses.append(train_rmse)\n",
    "    \n",
    "print(max_depths)\n",
    "print(test_rmses)\n",
    "print(train_rmses)"
   ]
  },
  {
   "cell_type": "code",
   "execution_count": 26,
   "metadata": {},
   "outputs": [
    {
     "data": {
      "image/png": "[encoded data removed]",
      "text/plain": [
       "<Figure size 432x288 with 1 Axes>"
      ]
     },
     "metadata": {
      "needs_background": "light"
     },
     "output_type": "display_data"
    }
   ],
   "source": [
    "plt.plot(max_depths, test_rmses, 'o-', color='r', label='test')\n",
    "plt.plot(max_depths, train_rmses, 'o-', color='b', label='train')\n",
    "plt.title(\"RMSE Regression trees for different depths\")\n",
    "plt.xlabel('max depth')\n",
    "plt.ylabel('rmse')\n",
    "plt.grid()\n",
    "plt.legend()\n",
    "plt.savefig('regression tree rmse.jpg')\n",
    "plt.show()\n"
   ]
  },
  {
   "cell_type": "code",
   "execution_count": null,
   "metadata": {},
   "outputs": [],
   "source": []
  }
 ],
 "metadata": {
  "colab": {
   "collapsed_sections": [
    "FzdowMN8TwnJ"
   ],
   "name": "decision trees.ipynb",
   "provenance": []
  },
  "kernelspec": {
   "display_name": "Python 3 (ipykernel)",
   "language": "python",
   "name": "python3"
  },
  "language_info": {
   "codemirror_mode": {
    "name": "ipython",
    "version": 3
   },
   "file_extension": ".py",
   "mimetype": "text/x-python",
   "name": "python",
   "nbconvert_exporter": "python",
   "pygments_lexer": "ipython3",
   "version": "3.8.12"
  }
 },
 "nbformat": 4,
 "nbformat_minor": 4
}
