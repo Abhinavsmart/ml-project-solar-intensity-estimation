{
  "nbformat": 4,
  "nbformat_minor": 0,
  "metadata": {
    "colab": {
      "name": "FeatureExpansion.ipynb",
      "provenance": []
    },
    "kernelspec": {
      "name": "python3",
      "display_name": "Python 3"
    },
    "language_info": {
      "name": "python"
    }
  },
  "cells": [
    {
      "cell_type": "markdown",
      "metadata": {
        "id": "bzI_cSMfTppn"
      },
      "source": [
        "# Import Statements\n",
        "\n"
      ]
    },
    {
      "cell_type": "code",
      "metadata": {
        "id": "XLr0SphwTolz"
      },
      "source": [
        "import pandas as pd\n",
        "import numpy as np\n",
        "\n",
        "import matplotlib.pyplot as plt\n",
        "import pylab\n",
        "import scipy.stats as stats\n",
        "import seaborn as sns\n",
        "\n",
        "from io import StringIO\n",
        "import sys\n",
        "\n",
        "import pickle\n",
        "\n",
        "import sklearn\n",
        "from sklearn.linear_model import LinearRegression\n",
        "from sklearn.model_selection import train_test_split\n",
        "from sklearn import metrics\n",
        "from sklearn.decomposition import PCA\n",
        "from sklearn.preprocessing import StandardScaler"
      ],
      "execution_count": 95,
      "outputs": []
    },
    {
      "cell_type": "markdown",
      "metadata": {
        "id": "dQu2HyPzTvqt"
      },
      "source": [
        "# Data Preprocessing"
      ]
    },
    {
      "cell_type": "code",
      "metadata": {
        "id": "Jttm4RxiT13X",
        "colab": {
          "base_uri": "https://localhost:8080/"
        },
        "outputId": "c28bf2e9-40a4-4673-a989-cc4ccc2d0d9e"
      },
      "source": [
        "# data Loading\n",
        "from google.colab import drive\n",
        "drive.mount('/content/drive')\n",
        "df = pd.read_csv(\"/content/drive/MyDrive/nevada_weather.csv\")"
      ],
      "execution_count": 96,
      "outputs": [
        {
          "output_type": "stream",
          "name": "stdout",
          "text": [
            "Drive already mounted at /content/drive; to attempt to forcibly remount, call drive.mount(\"/content/drive\", force_remount=True).\n"
          ]
        }
      ]
    },
    {
      "cell_type": "code",
      "metadata": {
        "id": "GQnRD4HST6nq"
      },
      "source": [
        "# dropping the year column\n",
        "df.drop(\"Year\",axis=1, inplace=True)"
      ],
      "execution_count": 97,
      "outputs": []
    },
    {
      "cell_type": "code",
      "metadata": {
        "id": "qT4DBdJNT9Hy"
      },
      "source": [
        "# mapping isDay (false/true) -> (0/1)\n",
        "df.replace(to_replace=True, value=1, inplace=True)\n",
        "df.replace(to_replace=False, value=0, inplace=True)"
      ],
      "execution_count": 98,
      "outputs": []
    },
    {
      "cell_type": "code",
      "metadata": {
        "id": "Qzx52xPIUECa"
      },
      "source": [
        "# dropping columns (refer preprocesssing notebook for details)\n",
        "df = df.drop([\"DHI\", \"Clearsky DHI\", \"Clearsky DNI\", \"Clearsky GHI\", \"DNI\", \"Fill Flag\", \"Dew Point\"], axis = 1)"
      ],
      "execution_count": 99,
      "outputs": []
    },
    {
      "cell_type": "markdown",
      "metadata": {
        "id": "rucbdCCfUKM4"
      },
      "source": [
        "# Model Spilting"
      ]
    },
    {
      "cell_type": "code",
      "metadata": {
        "id": "_IuwoGSsUG1H"
      },
      "source": [
        "# Mapping: features (current time) -> GHI value (48 hours into the future)\n",
        "total_records = len(df)\n",
        "features = df[:total_records-288].drop('GHI', axis=1).reset_index()\n",
        "output = df['GHI'][288:].reset_index()\n",
        "df = pd.concat([features, output], join='inner', axis=1)\n",
        "df.drop(['index'], axis=1, inplace=True)"
      ],
      "execution_count": 100,
      "outputs": []
    },
    {
      "cell_type": "code",
      "metadata": {
        "id": "O84_x5XKUNkX"
      },
      "source": [
        "# splitting the dataset into two: day and night\n",
        "df_day = df[df.is_day == 1].drop('is_day', axis=1)\n",
        "df_night = df[df.is_day == 0].drop('is_day', axis=1)"
      ],
      "execution_count": 101,
      "outputs": []
    },
    {
      "cell_type": "code",
      "metadata": {
        "id": "j-E7LshGUQXw"
      },
      "source": [
        "def feature_output_split(x):\n",
        "  '''\n",
        "  split the data into features (weather observations) and output (GHI) sets\n",
        "  x: initial dataset\n",
        "  returns: two datasets (feature & output)\n",
        "  '''\n",
        "  \n",
        "  total_records = len(x)\n",
        "  features = x.drop('GHI', axis=1)\n",
        "  output = x['GHI']\n",
        "\n",
        "  return features, output"
      ],
      "execution_count": 102,
      "outputs": []
    },
    {
      "cell_type": "code",
      "metadata": {
        "id": "bFoeydGkUSGA"
      },
      "source": [
        "# feature-output split for the whole data (df), day data (df_day) & night data (df_night)\n",
        "feature_df, GHI = feature_output_split(df)\n",
        "day_feature_df, day_GHI = feature_output_split(df_day)\n",
        "night_feature_df, night_GHI = feature_output_split(df_night)"
      ],
      "execution_count": 103,
      "outputs": []
    },
    {
      "cell_type": "code",
      "metadata": {
        "id": "XKGI948AUUrF"
      },
      "source": [
        "# train-test split for the whole data (df), day data (df_day) & night data (df_night)\n",
        "x_train, x_test, y_train, y_test = train_test_split(feature_df, GHI, test_size=.20, random_state=42)\n",
        "day_x_train, day_x_test, day_y_train, day_y_test = train_test_split(day_feature_df, day_GHI, test_size=.20, random_state=42)\n",
        "night_x_train, night_x_test, night_y_train, night_y_test = train_test_split(night_feature_df, night_GHI, test_size=.20, random_state=42)"
      ],
      "execution_count": 104,
      "outputs": []
    },
    {
      "cell_type": "markdown",
      "metadata": {
        "id": "kyhfw2l77VFN"
      },
      "source": [
        "# Feature Expansion"
      ]
    },
    {
      "cell_type": "code",
      "metadata": {
        "id": "4p3svhCIpyzr"
      },
      "source": [
        "def apply_LR(x_train, y_train, x_test, y_test, filename):\n",
        "  '''\n",
        "  applies LR on the train data (x_train, y_train),\n",
        "  and uses the same to print the train and test RMSE\n",
        "  \n",
        "  it also saves the model in pickel file ('filename')\n",
        "  '''\n",
        "\n",
        "  linear = LinearRegression()\n",
        "  linear.fit(x_train, y_train)\n",
        "\n",
        "  # save the model to disk\n",
        "  pickle.dump(linear, open(\"../Weights/\" + filename, 'wb'))\n",
        "\n",
        "  y_train_pred = linear.predict(x_train)\n",
        "  train_rmse = metrics.mean_squared_error(y_train, y_train_pred) ** 0.5\n",
        "  print(\"Train RMSE: \", train_rmse)\n",
        "  y_test_pred = linear.predict(x_test)\n",
        "  test_rmse = metrics.mean_squared_error(y_test, y_test_pred) ** 0.5\n",
        "  print(\"Test RMSE: \", test_rmse)"
      ],
      "execution_count": 105,
      "outputs": []
    },
    {
      "cell_type": "code",
      "metadata": {
        "id": "s5mjgDHyqoh4"
      },
      "source": [
        "def combine_result(y1, y1_pred, y2, y2_pred):\n",
        "  '''\n",
        "  combine both models predictions to return the final RMSE\n",
        "  '''\n",
        "  combined_y_pred = np.concatenate([y1_pred, y2_pred])\n",
        "  combined_y = np.concatenate([y1, y2])\n",
        "  rmse = metrics.mean_squared_error(combined_y, combined_y_pred) ** 0.5\n",
        "  return rmse"
      ],
      "execution_count": 106,
      "outputs": []
    },
    {
      "cell_type": "code",
      "metadata": {
        "id": "x2N47b--c64u"
      },
      "source": [
        "def expand_features15(df, n):\n",
        "  '''\n",
        "  expand features on the whole data (15 features) (with is_day column)\n",
        "  returns dataset with 15*(n+1) features\n",
        "  '''\n",
        "\n",
        "  list_df=[]\n",
        "  numpy_df=df.to_numpy()\n",
        "  final_df=numpy_df\n",
        "\n",
        "  for i in range(n):\n",
        "    list_df.append(df.to_numpy())\n",
        "    list_df[i][i+1:len(numpy_df),:]=numpy_df[:len(numpy_df)-(i+1),:]\n",
        "    final_df=np.concatenate((final_df,list_df[i]),axis=1)\n",
        "  \n",
        "  list_names=[\"Month\",\t\"Day\"\t,\"Hour\",\t\"Minute\",\t\"Temperature\",\t\"Cloud Type\",\t\"Dew Point\",\t\"Relative Humidity\",\t\"Solar Zenith Angle\",\t\"Surface Albedo\",\t\"Pressure\",\t\"Precipitable Water\",\t\"Wind Direction\",\t\"Wind Speed\", \"is_day\"]\n",
        "  for i in range(n):\n",
        "    for j in range(15):\n",
        "      list_names.append(list_names[j]+str(i))\n",
        "  \n",
        "\n",
        "  expanded_df = pd.DataFrame(final_df, columns = list_names)\n",
        "  return expanded_df,list_names"
      ],
      "execution_count": 107,
      "outputs": []
    },
    {
      "cell_type": "code",
      "metadata": {
        "id": "zI5IGlGpePuL"
      },
      "source": [
        "def feature_expansion15_withoutPCA(feature_df,GHI,n, filename):\n",
        "  '''\n",
        "  expand features on the whole data (15 features) (with is_day column)\n",
        "  then applies LR on the expanded features to print the train-test RMSE \n",
        "  '''\n",
        "\n",
        "  expanded_df, expanded_features_without=expand_features15(feature_df,n)\n",
        "  print(expanded_df.shape)\n",
        "\n",
        "  expanded_x_train, expanded_x_test, expanded_y_train, expanded_y_test = train_test_split(expanded_df, GHI, test_size=.20, random_state=42)\n",
        "\n",
        "  print(\"Whole Dataset Model\")\n",
        "  apply_LR(expanded_x_train, expanded_y_train, expanded_x_test, expanded_y_test, filename)"
      ],
      "execution_count": 108,
      "outputs": []
    },
    {
      "cell_type": "code",
      "metadata": {
        "id": "pvPI-1F4uvFB"
      },
      "source": [
        "def expand_features(df, n):\n",
        "  '''\n",
        "  expand features on the day-night data (14 features) (without is_day column)\n",
        "  returns dataset with 15*(n+1) features\n",
        "  '''\n",
        "\n",
        "  list_df=[]\n",
        "  numpy_df=df.to_numpy()\n",
        "  final_df=numpy_df\n",
        "\n",
        "  for i in range(n):\n",
        "    list_df.append(df.to_numpy())\n",
        "    list_df[i][i+1:len(numpy_df),:]=numpy_df[:len(numpy_df)-(i+1),:]\n",
        "    final_df=np.concatenate((final_df,list_df[i]),axis=1)\n",
        "  \n",
        "  list_names=[\"Month\",\t\"Day\"\t,\"Hour\",\t\"Minute\",\t\"Temperature\",\t\"Cloud Type\",\t\"Dew Point\",\t\"Relative Humidity\",\t\"Solar Zenith Angle\",\t\"Surface Albedo\",\t\"Pressure\",\t\"Precipitable Water\",\t\"Wind Direction\",\t\"Wind Speed\"]\n",
        "  for i in range(n):\n",
        "    for j in range(14):\n",
        "      list_names.append(list_names[j]+str(i))\n",
        "  \n",
        "\n",
        "  expanded_df = pd.DataFrame(final_df, columns = list_names)\n",
        "  return expanded_df,list_names"
      ],
      "execution_count": 109,
      "outputs": []
    },
    {
      "cell_type": "code",
      "metadata": {
        "id": "WViyT0-q81UP"
      },
      "source": [
        "def feature_expansion_withoutPCA(day_feature_df,night_feature_df,day_GHI,night_GHI,n, filename):\n",
        "  '''\n",
        "  expand features on the day/night data (14 features) (without is_day column)\n",
        "  then applies LR on the expanded features to print the train-test RMSE \n",
        "  '''\n",
        "  expanded_day_df, expanded_features_without=expand_features(day_feature_df,n)\n",
        "  expanded_night_df, expanded_features_without=expand_features(night_feature_df,n)\n",
        "  print(expanded_day_df.shape)\n",
        "\n",
        "  expanded_day_x_train, expanded_day_x_test, expanded_day_y_train, expanded_day_y_test = train_test_split(expanded_day_df, day_GHI, test_size=.20, random_state=42)\n",
        "  expanded_night_x_train, expanded_night_x_test, expanded_night_y_train, expanded_night_y_test = train_test_split(expanded_night_df, night_GHI, test_size=.20, random_state=42)\n",
        "\n",
        "  print(\"Day Time Model\")\n",
        "  apply_LR(expanded_day_x_train, expanded_day_y_train, expanded_day_x_test, expanded_day_y_test, filename + 'day' + str(n) + '.pkl')\n",
        "\n",
        "  print(\"Night Time Model\")\n",
        "  apply_LR(expanded_night_x_train, expanded_night_y_train, expanded_night_x_test, expanded_night_y_test, filename + 'night' + str(n) + '.pkl')\n",
        "\n",
        "\n",
        "  print(\"Combined Model\")\n",
        "  day_linear = LinearRegression()\n",
        "  day_linear.fit(expanded_day_x_train, expanded_day_y_train)\n",
        "  night_linear = LinearRegression()\n",
        "  night_linear.fit(expanded_night_x_train, expanded_night_y_train)\n",
        "\n",
        "  day_y_train_pred = day_linear.predict(expanded_day_x_train)\n",
        "  night_y_train_pred = night_linear.predict(expanded_night_x_train)\n",
        "  train_rmse = combine_result(expanded_day_y_train, day_y_train_pred, expanded_night_y_train, night_y_train_pred)\n",
        "  print(\"Train RMSE: \", train_rmse)\n",
        "\n",
        "  day_y_test_pred = day_linear.predict(expanded_day_x_test)\n",
        "  night_y_test_pred = night_linear.predict(expanded_night_x_test)\n",
        "  test_rmse = combine_result(expanded_day_y_test, day_y_test_pred, expanded_night_y_test, night_y_test_pred)\n",
        "  print(\"Test RMSE: \", test_rmse)"
      ],
      "execution_count": 110,
      "outputs": []
    },
    {
      "cell_type": "markdown",
      "metadata": {
        "id": "Gcsv6vybc38F"
      },
      "source": [
        "## Single Model (Without PCA)"
      ]
    },
    {
      "cell_type": "code",
      "metadata": {
        "id": "bt7aGHEEfAFN",
        "colab": {
          "base_uri": "https://localhost:8080/"
        },
        "outputId": "d1b7781f-94c6-4ea1-fd08-ab259db7c46e"
      },
      "source": [
        "list_n=[1,5,25,40,100]\n",
        "\n",
        "for i in list_n:\n",
        "  print(i)\n",
        "  feature_expansion15_withoutPCA(feature_df,GHI,i, 'FeatureExpansion/withoutPCA_'+ str(i) + '.pkl')"
      ],
      "execution_count": 111,
      "outputs": [
        {
          "output_type": "stream",
          "name": "stdout",
          "text": [
            "1\n",
            "(52272, 30)\n",
            "Whole Dataset Model\n",
            "Train RMSE:  145.75308716497506\n",
            "Test RMSE:  147.68721941279728\n",
            "5\n",
            "(52272, 90)\n",
            "Whole Dataset Model\n",
            "Train RMSE:  134.92882235811217\n",
            "Test RMSE:  137.54002269057318\n",
            "25\n",
            "(52272, 390)\n",
            "Whole Dataset Model\n",
            "Train RMSE:  107.35595686467299\n",
            "Test RMSE:  112.92460085017986\n",
            "40\n",
            "(52272, 615)\n",
            "Whole Dataset Model\n",
            "Train RMSE:  98.46231086420478\n",
            "Test RMSE:  122.58349846030963\n",
            "100\n",
            "(52272, 1515)\n",
            "Whole Dataset Model\n",
            "Train RMSE:  84.31045569096428\n",
            "Test RMSE:  272.58763371468973\n"
          ]
        }
      ]
    },
    {
      "cell_type": "markdown",
      "metadata": {
        "id": "Yq2g7gXPUy1d"
      },
      "source": [
        "## Day Night Model (Without PCA)"
      ]
    },
    {
      "cell_type": "code",
      "metadata": {
        "id": "95OzEzkP-KVh",
        "colab": {
          "base_uri": "https://localhost:8080/"
        },
        "outputId": "1ad9c860-1d4d-48e6-c2d6-1b118dc98c8f"
      },
      "source": [
        "list_n=[1,5,25,40,100]\n",
        "\n",
        "for i in list_n:\n",
        "  print(i)\n",
        "  feature_expansion_withoutPCA(day_feature_df,night_feature_df,day_GHI,night_GHI,i, 'FeatureExpansion/withoutPCA_')"
      ],
      "execution_count": 112,
      "outputs": [
        {
          "output_type": "stream",
          "name": "stdout",
          "text": [
            "1\n",
            "(26674, 28)\n",
            "Day Time Model\n",
            "Train RMSE:  113.1911480707158\n",
            "Test RMSE:  114.93920406393704\n",
            "Night Time Model\n",
            "Train RMSE:  6.121855381358566\n",
            "Test RMSE:  5.986153348395325\n",
            "Combined Model\n",
            "Train RMSE:  80.97142003607642\n",
            "Test RMSE:  82.21250956938489\n",
            "5\n",
            "(26674, 84)\n",
            "Day Time Model\n",
            "Train RMSE:  112.63617962096625\n",
            "Test RMSE:  114.65591097592491\n",
            "Night Time Model\n",
            "Train RMSE:  5.895410826116193\n",
            "Test RMSE:  5.838491470397497\n",
            "Combined Model\n",
            "Train RMSE:  80.56726699087397\n",
            "Test RMSE:  82.0051920552073\n",
            "25\n",
            "(26674, 364)\n",
            "Day Time Model\n",
            "Train RMSE:  110.19316691873894\n",
            "Test RMSE:  112.8936720305462\n",
            "Night Time Model\n",
            "Train RMSE:  5.721125653182273\n",
            "Test RMSE:  5.707383903794805\n",
            "Combined Model\n",
            "Train RMSE:  78.81815358567825\n",
            "Test RMSE:  80.74335100166348\n",
            "40\n",
            "(26674, 574)\n",
            "Day Time Model\n",
            "Train RMSE:  107.89956042222654\n",
            "Test RMSE:  112.24511604738959\n",
            "Night Time Model\n",
            "Train RMSE:  5.462784421001034\n",
            "Test RMSE:  5.515306962494638\n",
            "Combined Model\n",
            "Train RMSE:  77.17271096021504\n",
            "Test RMSE:  80.27405670811244\n",
            "100\n",
            "(26674, 1414)\n",
            "Day Time Model\n",
            "Train RMSE:  103.99994427089331\n",
            "Test RMSE:  111.75308397624377\n",
            "Night Time Model\n",
            "Train RMSE:  4.766507727285739\n",
            "Test RMSE:  5.045726400203506\n",
            "Combined Model\n",
            "Train RMSE:  74.36712413453137\n",
            "Test RMSE:  79.90779157178979\n"
          ]
        }
      ]
    },
    {
      "cell_type": "markdown",
      "metadata": {
        "id": "kwKd_VoZZKaH"
      },
      "source": [
        "## Single Model (with PCA)"
      ]
    },
    {
      "cell_type": "code",
      "metadata": {
        "colab": {
          "base_uri": "https://localhost:8080/",
          "height": 279
        },
        "id": "wYsSl980ZaSD",
        "outputId": "78954fb0-7a39-4f93-84a6-54ab7e06168f"
      },
      "source": [
        "# PCA plot\n",
        "expanded_df, expanded_features_without=expand_features15(feature_df,100)\n",
        "\n",
        "pca = PCA().fit(expanded_df)\n",
        "plt.plot(np.cumsum(pca.explained_variance_ratio_))\n",
        "plt.xlabel('number of components')\n",
        "plt.ylabel('cumulative explained variance')\n",
        "plt.show()"
      ],
      "execution_count": 113,
      "outputs": [
        {
          "output_type": "display_data",
          "data": {
            "image/png": "[encoded data removed]",
            "text/plain": [
              "<Figure size 432x288 with 1 Axes>"
            ]
          },
          "metadata": {
            "needs_background": "light"
          }
        }
      ]
    },
    {
      "cell_type": "code",
      "metadata": {
        "colab": {
          "base_uri": "https://localhost:8080/"
        },
        "id": "3wuxSqdwaCXm",
        "outputId": "71ab4b32-8b25-4266-8b31-5df48987931d"
      },
      "source": [
        "num_features = 250\n",
        "\n",
        "pca = PCA(n_components=num_features)\n",
        "pca_feature_df = pca.fit_transform(expanded_df)\n",
        "print('\\n Total Variance Explained:', round(sum(list(pca.explained_variance_ratio_))*100, 2))\n",
        "\n",
        "list_names_pca=[]\n",
        "for i in range(num_features):\n",
        "  list_names_pca.append(\"pca_component\"+str(i+1))"
      ],
      "execution_count": 114,
      "outputs": [
        {
          "output_type": "stream",
          "name": "stdout",
          "text": [
            "\n",
            " Total Variance Explained: 99.98\n"
          ]
        }
      ]
    },
    {
      "cell_type": "code",
      "metadata": {
        "colab": {
          "base_uri": "https://localhost:8080/"
        },
        "id": "UWq9FasRb060",
        "outputId": "9148cd51-9915-4523-baa7-064bd02062cb"
      },
      "source": [
        "pca_feature_dataframe=pd.DataFrame(pca_feature_df, columns=list_names_pca)\n",
        "expanded_x_train, expanded_x_test, expanded_y_train, expanded_y_test = train_test_split(pca_feature_dataframe, GHI, test_size=.20, random_state=42)\n",
        "\n",
        "print(\"Whole Dataset Model\")\n",
        "apply_LR(expanded_x_train, expanded_y_train, expanded_x_test, expanded_y_test, 'FeatureExpansion/withPCA_whole_'+'100exp' +'250comp.pkl')"
      ],
      "execution_count": 115,
      "outputs": [
        {
          "output_type": "stream",
          "name": "stdout",
          "text": [
            "Whole Dataset Model\n",
            "Train RMSE:  97.96414685808345\n",
            "Test RMSE:  99.35370471310807\n"
          ]
        }
      ]
    },
    {
      "cell_type": "markdown",
      "metadata": {
        "id": "I5ogejp8U0ns"
      },
      "source": [
        "## Day Night Model (with PCA)"
      ]
    },
    {
      "cell_type": "code",
      "metadata": {
        "colab": {
          "base_uri": "https://localhost:8080/",
          "height": 541
        },
        "id": "sHOIxOX1CP3J",
        "outputId": "be982d24-52f0-4bcd-987a-94df89979100"
      },
      "source": [
        "# day and night PCA plots\n",
        "expanded_day_df, expanded_features_without=expand_features(day_feature_df,100)\n",
        "expanded_night_df, expanded_features_without=expand_features(night_feature_df,100)\n",
        "\n",
        "day_pca = PCA().fit(expanded_day_df)\n",
        "plt.plot(np.cumsum(day_pca.explained_variance_ratio_))\n",
        "plt.xlabel('number of components')\n",
        "plt.ylabel('cumulative explained variance')\n",
        "plt.show()\n",
        "\n",
        "night_pca = PCA().fit(expanded_night_df)\n",
        "plt.plot(np.cumsum(night_pca.explained_variance_ratio_))\n",
        "plt.xlabel('number of components')\n",
        "plt.ylabel('cumulative explained variance')\n",
        "plt.show()"
      ],
      "execution_count": 116,
      "outputs": [
        {
          "output_type": "display_data",
          "data": {
            "image/png": "[encoded data removed]",
            "text/plain": [
              "<Figure size 432x288 with 1 Axes>"
            ]
          },
          "metadata": {
            "needs_background": "light"
          }
        },
        {
          "output_type": "display_data",
          "data": {
            "image/png": "[encoded data removed]",
            "text/plain": [
              "<Figure size 432x288 with 1 Axes>"
            ]
          },
          "metadata": {
            "needs_background": "light"
          }
        }
      ]
    },
    {
      "cell_type": "code",
      "metadata": {
        "colab": {
          "base_uri": "https://localhost:8080/"
        },
        "id": "4qkRDgBTCX9I",
        "outputId": "0f787df9-76c3-4730-95a8-743952f17db0"
      },
      "source": [
        "num_features = 250\n",
        "\n",
        "day_num_features=num_features\n",
        "\n",
        "day_pca = PCA(n_components=day_num_features)\n",
        "day_pca_feature_df = day_pca.fit_transform(expanded_day_df)\n",
        "print('\\n Total Variance Explained:', round(sum(list(day_pca.explained_variance_ratio_))*100, 2))\n",
        "\n",
        "night_num_features=num_features\n",
        "night_pca = PCA(n_components=night_num_features)\n",
        "night_pca_feature_df = night_pca.fit_transform(expanded_night_df)\n",
        "print('\\n Total Variance Explained:', round(sum(list(night_pca.explained_variance_ratio_))*100, 2))\n",
        "\n",
        "list_names_pca=[]\n",
        "for i in range(num_features):\n",
        "  list_names_pca.append(\"pca_component\"+str(i+1))"
      ],
      "execution_count": 117,
      "outputs": [
        {
          "output_type": "stream",
          "name": "stdout",
          "text": [
            "\n",
            " Total Variance Explained: 99.92\n",
            "\n",
            " Total Variance Explained: 99.88\n"
          ]
        }
      ]
    },
    {
      "cell_type": "code",
      "metadata": {
        "id": "esP7pqcZFrMq",
        "colab": {
          "base_uri": "https://localhost:8080/"
        },
        "outputId": "6e7bb0e4-d469-4174-b521-bab9e7e1b6b8"
      },
      "source": [
        "day_pca_feature_dataframe=pd.DataFrame(day_pca_feature_df,columns=list_names_pca)\n",
        "\n",
        "night_pca_feature_dataframe=pd.DataFrame(night_pca_feature_df,columns=list_names_pca)\n",
        "\n",
        "expanded_day_x_train, expanded_day_x_test, expanded_day_y_train, expanded_day_y_test = train_test_split(day_pca_feature_dataframe, day_GHI, test_size=.20, random_state=42)\n",
        "expanded_night_x_train, expanded_night_x_test, expanded_night_y_train, expanded_night_y_test = train_test_split(night_pca_feature_dataframe, night_GHI, test_size=.20, random_state=42)\n",
        "\n",
        "apply_LR(expanded_day_x_train, expanded_day_y_train, expanded_day_x_test, expanded_day_y_test, 'FeatureExpansion/withPCA_day_'+'100exp' +'250comp.pkl')\n",
        "apply_LR(expanded_night_x_train, expanded_night_y_train, expanded_night_x_test, expanded_night_y_test, 'FeatureExpansion/withPCA_night_'+'100exp' +'250comp.pkl')"
      ],
      "execution_count": 118,
      "outputs": [
        {
          "output_type": "stream",
          "name": "stdout",
          "text": [
            "Train RMSE:  109.15673762522295\n",
            "Test RMSE:  111.6216180045608\n",
            "Train RMSE:  5.66526388762073\n",
            "Test RMSE:  5.600362258883293\n"
          ]
        }
      ]
    },
    {
      "cell_type": "code",
      "metadata": {
        "id": "tpY4urU6GvFK",
        "colab": {
          "base_uri": "https://localhost:8080/"
        },
        "outputId": "061c16e7-178e-4411-e996-3a7528e7c3ef"
      },
      "source": [
        "print(\"Combined Model\")\n",
        "day_linear = LinearRegression()\n",
        "day_linear.fit(expanded_day_x_train, expanded_day_y_train)\n",
        "night_linear = LinearRegression()\n",
        "night_linear.fit(expanded_night_x_train, expanded_night_y_train)\n",
        "\n",
        "# Train RMSE\n",
        "day_y_train_pred = day_linear.predict(expanded_day_x_train)\n",
        "night_y_train_pred = night_linear.predict(expanded_night_x_train)\n",
        "train_rmse = combine_result(expanded_day_y_train, day_y_train_pred, expanded_night_y_train, night_y_train_pred)\n",
        "print(\"Train RMSE: \", train_rmse)\n",
        "\n",
        "# Test RMSE\n",
        "day_y_test_pred = day_linear.predict(expanded_day_x_test)\n",
        "night_y_test_pred = night_linear.predict(expanded_night_x_test)\n",
        "test_rmse = combine_result(expanded_day_y_test, day_y_test_pred, expanded_night_y_test, night_y_test_pred)\n",
        "print(\"Test RMSE: \", test_rmse)"
      ],
      "execution_count": 119,
      "outputs": [
        {
          "output_type": "stream",
          "name": "stdout",
          "text": [
            "Combined Model\n",
            "Train RMSE:  78.07675120141843\n",
            "Test RMSE:  79.83208476661937\n"
          ]
        }
      ]
    }
  ]
}