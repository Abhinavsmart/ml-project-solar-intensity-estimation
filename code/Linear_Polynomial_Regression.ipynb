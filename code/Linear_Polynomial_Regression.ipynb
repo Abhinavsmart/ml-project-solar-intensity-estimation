{
  "nbformat": 4,
  "nbformat_minor": 0,
  "metadata": {
    "colab": {
      "name": "Regression.ipynb",
      "provenance": []
    },
    "kernelspec": {
      "display_name": "Python 3",
      "name": "python3"
    },
    "language_info": {
      "name": "python"
    }
  },
  "cells": [
    {
      "cell_type": "markdown",
      "metadata": {
        "id": "bzI_cSMfTppn"
      },
      "source": [
        "# Import Statements\n",
        "\n"
      ]
    },
    {
      "cell_type": "code",
      "metadata": {
        "id": "XLr0SphwTolz"
      },
      "source": [
        "import pandas as pd\n",
        "import numpy as np\n",
        "\n",
        "import matplotlib.pyplot as plt\n",
        "import pylab\n",
        "import scipy.stats as stats\n",
        "import seaborn as sns\n",
        "\n",
        "from io import StringIO\n",
        "import sys\n",
        "\n",
        "import sklearn\n",
        "import sklearn.linear_model as sl\n",
        "from sklearn.linear_model import LinearRegression, Ridge, Lasso\n",
        "from sklearn.model_selection import train_test_split, GroupShuffleSplit, GridSearchCV\n",
        "from sklearn import metrics\n",
        "from sklearn.decomposition import PCA\n",
        "from sklearn.preprocessing import PolynomialFeatures\n",
        "from sklearn.preprocessing import StandardScaler"
      ],
      "execution_count": 3,
      "outputs": []
    },
    {
      "cell_type": "markdown",
      "metadata": {
        "id": "dQu2HyPzTvqt"
      },
      "source": [
        "# Data Pre-processing"
      ]
    },
    {
      "cell_type": "markdown",
      "metadata": {
        "id": "FzdowMN8TwnJ"
      },
      "source": [
        "### Data Loading"
      ]
    },
    {
      "cell_type": "code",
      "metadata": {
        "colab": {
          "base_uri": "https://localhost:8080/"
        },
        "id": "Jttm4RxiT13X",
        "outputId": "c35cb4a6-f99b-43d1-cdc0-1f827f2970f8"
      },
      "source": [
        "from google.colab import drive\n",
        "drive.mount('/content/drive')"
      ],
      "execution_count": 4,
      "outputs": [
        {
          "output_type": "stream",
          "name": "stdout",
          "text": [
            "Mounted at /content/drive\n"
          ]
        }
      ]
    },
    {
      "cell_type": "code",
      "metadata": {
        "id": "uT5A57INT4fB"
      },
      "source": [
        "df = pd.read_csv(\"/content/drive/MyDrive/nevada_weather.csv\")"
      ],
      "execution_count": 5,
      "outputs": []
    },
    {
      "cell_type": "code",
      "metadata": {
        "id": "GQnRD4HST6nq"
      },
      "source": [
        "# Dropping Year Column\n",
        "df.drop(\"Year\",axis=1, inplace=True)"
      ],
      "execution_count": 6,
      "outputs": []
    },
    {
      "cell_type": "code",
      "metadata": {
        "id": "qT4DBdJNT9Hy"
      },
      "source": [
        "# Mapping isDay (false/true) -> (0/1)\n",
        "df.replace(to_replace=True, value=1, inplace=True)\n",
        "df.replace(to_replace=False, value=0, inplace=True)"
      ],
      "execution_count": 7,
      "outputs": []
    },
    {
      "cell_type": "code",
      "metadata": {
        "id": "SC3T5LE1UB-t"
      },
      "source": [
        "# Max-Min Normalisation\n",
        "# for column in df:\n",
        "#   if(column!=\"GHI\"):\n",
        "#     df[column] = (df[column] - df[column].min()) / (df[column].max() - df[column].min())"
      ],
      "execution_count": 8,
      "outputs": []
    },
    {
      "cell_type": "code",
      "metadata": {
        "id": "Qzx52xPIUECa"
      },
      "source": [
        "# Dropping columns\n",
        "df = df.drop([\"DHI\", \"Clearsky DHI\", \"Clearsky DNI\", \"Clearsky GHI\", \"DNI\", \"Fill Flag\", \"Dew Point\"], axis = 1)"
      ],
      "execution_count": 9,
      "outputs": []
    },
    {
      "cell_type": "markdown",
      "metadata": {
        "id": "rucbdCCfUKM4"
      },
      "source": [
        "# Model Spilting"
      ]
    },
    {
      "cell_type": "code",
      "metadata": {
        "id": "_IuwoGSsUG1H"
      },
      "source": [
        "# Mapping the data\n",
        "total_records = len(df)\n",
        "features = df[:total_records-288].drop('GHI', axis=1).reset_index()\n",
        "output = df['GHI'][288:].reset_index()\n",
        "df = pd.concat([features, output], join='inner', axis=1)\n",
        "df.drop(['index'], axis=1, inplace=True)"
      ],
      "execution_count": 10,
      "outputs": []
    },
    {
      "cell_type": "code",
      "metadata": {
        "id": "O84_x5XKUNkX"
      },
      "source": [
        "df_day = df[df.is_day == 1].drop('is_day', axis=1)\n",
        "df_night = df[df.is_day == 0].drop('is_day', axis=1)"
      ],
      "execution_count": 11,
      "outputs": []
    },
    {
      "cell_type": "code",
      "metadata": {
        "colab": {
          "base_uri": "https://localhost:8080/"
        },
        "id": "XaywdelI4JgL",
        "outputId": "5b325775-e940-4f7b-b3a0-9ae41d56bd22"
      },
      "source": [
        "df_day.shape"
      ],
      "execution_count": 12,
      "outputs": [
        {
          "output_type": "execute_result",
          "data": {
            "text/plain": [
              "(26674, 15)"
            ]
          },
          "metadata": {},
          "execution_count": 12
        }
      ]
    },
    {
      "cell_type": "code",
      "metadata": {
        "id": "j-E7LshGUQXw"
      },
      "source": [
        "def feature_output_split(x):\n",
        "  total_records = len(x)\n",
        "  features = x.drop('GHI', axis=1)\n",
        "  output = x['GHI']\n",
        "\n",
        "  return features, output"
      ],
      "execution_count": 13,
      "outputs": []
    },
    {
      "cell_type": "code",
      "metadata": {
        "id": "bFoeydGkUSGA"
      },
      "source": [
        "feature_df, GHI = feature_output_split(df)\n",
        "day_feature_df, day_GHI = feature_output_split(df_day)\n",
        "night_feature_df, night_GHI = feature_output_split(df_night)"
      ],
      "execution_count": 14,
      "outputs": []
    },
    {
      "cell_type": "code",
      "metadata": {
        "id": "XKGI948AUUrF"
      },
      "source": [
        "x_train, x_test, y_train, y_test = train_test_split(feature_df, GHI, test_size=.20, random_state=42)\n",
        "day_x_train, day_x_test, day_y_train, day_y_test = train_test_split(day_feature_df, day_GHI, test_size=.20, random_state=42)\n",
        "night_x_train, night_x_test, night_y_train, night_y_test = train_test_split(night_feature_df, night_GHI, test_size=.20, random_state=42)"
      ],
      "execution_count": 15,
      "outputs": []
    },
    {
      "cell_type": "markdown",
      "metadata": {
        "id": "U7vdukQnUYfS"
      },
      "source": [
        "# Linear Regression"
      ]
    },
    {
      "cell_type": "code",
      "metadata": {
        "id": "w3P-ZABYpaRR"
      },
      "source": [
        "def apply_LR(x_train, y_train, x_test, y_test):\n",
        "  linear = LinearRegression()\n",
        "  linear.fit(x_train, y_train)\n",
        "\n",
        "  y_train_pred = linear.predict(x_train)\n",
        "  train_rmse = metrics.mean_squared_error(y_train, y_train_pred) ** 0.5\n",
        "  print(\"Train RMSE: \", train_rmse)\n",
        "  y_test_pred = linear.predict(x_test)\n",
        "  test_rmse = metrics.mean_squared_error(y_test, y_test_pred) ** 0.5\n",
        "  print(\"Test RMSE: \", test_rmse)"
      ],
      "execution_count": 16,
      "outputs": []
    },
    {
      "cell_type": "code",
      "metadata": {
        "id": "mZSLVVuFnxS0",
        "colab": {
          "base_uri": "https://localhost:8080/"
        },
        "outputId": "79439110-da4c-4a44-97d1-c635042461b3"
      },
      "source": [
        "# whole data\n",
        "apply_LR(x_train, y_train, x_test, y_test)"
      ],
      "execution_count": 17,
      "outputs": [
        {
          "output_type": "stream",
          "name": "stdout",
          "text": [
            "Train RMSE:  151.55383564616952\n",
            "Test RMSE:  152.01901309262257\n"
          ]
        }
      ]
    },
    {
      "cell_type": "code",
      "metadata": {
        "colab": {
          "base_uri": "https://localhost:8080/"
        },
        "id": "-m5W4TQDWaWZ",
        "outputId": "055bff99-fa42-4f1b-ca46-3f2d56767779"
      },
      "source": [
        "# day_time_data\n",
        "apply_LR(day_x_train, day_y_train, day_x_test, day_y_test)"
      ],
      "execution_count": 18,
      "outputs": [
        {
          "output_type": "stream",
          "name": "stdout",
          "text": [
            "Train RMSE:  113.40550303779567\n",
            "Test RMSE:  114.88453421034431\n"
          ]
        }
      ]
    },
    {
      "cell_type": "code",
      "metadata": {
        "colab": {
          "base_uri": "https://localhost:8080/"
        },
        "id": "ZqyrrXwJWcG7",
        "outputId": "49fe38ac-4fcb-4ce3-ee07-47eb74c9b0b0"
      },
      "source": [
        "# night_time_data\n",
        "apply_LR(night_x_train, night_y_train, night_x_test, night_y_test)"
      ],
      "execution_count": 19,
      "outputs": [
        {
          "output_type": "stream",
          "name": "stdout",
          "text": [
            "Train RMSE:  6.392624176593561\n",
            "Test RMSE:  6.225040022294496\n"
          ]
        }
      ]
    },
    {
      "cell_type": "code",
      "metadata": {
        "id": "ZDfp8UrhWu4D"
      },
      "source": [
        "def combine_result(y1, y1_pred, y2, y2_pred):\n",
        "  combined_y_pred = np.concatenate([y1_pred, y2_pred])\n",
        "  combined_y = np.concatenate([y1, y2])\n",
        "  rmse = metrics.mean_squared_error(combined_y, combined_y_pred) ** 0.5\n",
        "  return rmse"
      ],
      "execution_count": 20,
      "outputs": []
    },
    {
      "cell_type": "code",
      "metadata": {
        "colab": {
          "base_uri": "https://localhost:8080/"
        },
        "id": "dhYsS3_bWeyH",
        "outputId": "e23ffe8f-2510-4ee3-af8f-3f39d8e98904"
      },
      "source": [
        "# combining day and night time results\n",
        "day_linear = LinearRegression()\n",
        "day_linear.fit(day_x_train, day_y_train)\n",
        "night_linear = LinearRegression()\n",
        "night_linear.fit(night_x_train, night_y_train)\n",
        "\n",
        "day_y_train_pred = day_linear.predict(day_x_train)\n",
        "night_y_train_pred = night_linear.predict(night_x_train)\n",
        "train_rmse = combine_result(day_y_train, day_y_train_pred, night_y_train, night_y_train_pred)\n",
        "print(\"Train RMSE: \", train_rmse)\n",
        "\n",
        "day_y_test_pred = day_linear.predict(day_x_test)\n",
        "night_y_test_pred = night_linear.predict(night_x_test)\n",
        "test_rmse = combine_result(day_y_test, day_y_test_pred, night_y_test, night_y_test_pred)\n",
        "print(\"Test RMSE: \", test_rmse)"
      ],
      "execution_count": 21,
      "outputs": [
        {
          "output_type": "stream",
          "name": "stdout",
          "text": [
            "Train RMSE:  81.13455703527238\n",
            "Test RMSE:  82.18219926974604\n"
          ]
        }
      ]
    },
    {
      "cell_type": "markdown",
      "metadata": {
        "id": "slO10_Gk4C0c"
      },
      "source": [
        "# Lasso Regression"
      ]
    },
    {
      "cell_type": "code",
      "metadata": {
        "id": "OAhcDB8e8eIm"
      },
      "source": [
        "def apply_Lasso(x_train, y_train, x_test, y_test):\n",
        "  lasso_alpha_vec = np.arange(1e-3,3,0.1)\n",
        "  lasso_train_rmse = []\n",
        "  lasso_test_rmse = []\n",
        "\n",
        "  for alpha in lasso_alpha_vec:\n",
        "    lasso = Lasso(alpha)\n",
        "    lasso.fit(x_train, y_train)\n",
        "\n",
        "    y_train_pred = lasso.predict(x_train)\n",
        "    train_rmse = metrics.mean_squared_error(y_train, y_train_pred) ** 0.5\n",
        "    lasso_train_rmse.append(train_rmse)\n",
        "\n",
        "    y_test_pred = lasso.predict(x_test)\n",
        "    test_rmse = metrics.mean_squared_error(y_test, y_test_pred) ** 0.5\n",
        "    lasso_test_rmse.append(test_rmse)  \n",
        "\n",
        "  plt.figure(figsize=(30,10))\n",
        "  plt.plot(list(map(str, lasso_alpha_vec)), lasso_train_rmse, color='r')\n",
        "  plt.plot(list(map(str, lasso_alpha_vec)), lasso_test_rmse, color='y')\n",
        "  plt.title(\"Lasso: Training/Testing rmse with alpha\")\n",
        "  plt.xlabel(\"alpha\")\n",
        "  plt.ylabel(\"rmse\")\n",
        "  plt.show()\n",
        "\n",
        "  lasso_optimal_train_rmse = min(lasso_train_rmse)\n",
        "  optimal_i = lasso_train_rmse.index(lasso_optimal_train_rmse)\n",
        "  lasso_optimal_train_alpha = lasso_alpha_vec[optimal_i]\n",
        "  print(\"Optimal train alpha value: \", lasso_optimal_train_alpha)\n",
        "  print(\"Optimal train rmse: \", lasso_optimal_train_rmse)\n",
        "\n",
        "  lasso_optimal_test_rmse = min(lasso_test_rmse)\n",
        "  optimal_i = lasso_test_rmse.index(lasso_optimal_test_rmse)\n",
        "  lasso_optimal_test_alpha = lasso_alpha_vec[optimal_i]\n",
        "  print(\"Optimal test alpha value: \", lasso_optimal_test_alpha)\n",
        "  print(\"Optimal test rmse: \", lasso_optimal_test_rmse)"
      ],
      "execution_count": 22,
      "outputs": []
    },
    {
      "cell_type": "code",
      "metadata": {
        "colab": {
          "base_uri": "https://localhost:8080/",
          "height": 581
        },
        "id": "YyDsgabm_ZH6",
        "outputId": "94c76675-67e6-4198-ba60-6082e797eade"
      },
      "source": [
        "# whole data\n",
        "apply_Lasso(x_train, y_train, x_test, y_test)"
      ],
      "execution_count": 23,
      "outputs": [
        {
          "output_type": "display_data",
          "data": {
            "image/png": "[encoded data removed]",
            "text/plain": [
              "<Figure size 2160x720 with 1 Axes>"
            ]
          },
          "metadata": {
            "needs_background": "light"
          }
        },
        {
          "output_type": "stream",
          "name": "stdout",
          "text": [
            "Optimal train alpha value:  0.001\n",
            "Optimal train rmse:  151.55386989094632\n",
            "Optimal test alpha value:  0.001\n",
            "Optimal test rmse:  152.01837679456074\n"
          ]
        }
      ]
    },
    {
      "cell_type": "code",
      "metadata": {
        "colab": {
          "base_uri": "https://localhost:8080/",
          "height": 576
        },
        "id": "4lt4ubEJ_bia",
        "outputId": "aed0240a-e145-4047-eb66-af31ca7e6b61"
      },
      "source": [
        "# day_time_data\n",
        "apply_Lasso(day_x_train, day_y_train, day_x_test, day_y_test)"
      ],
      "execution_count": 24,
      "outputs": [
        {
          "output_type": "display_data",
          "data": {
            "image/png": "[encoded data removed]",
            "text/plain": [
              "<Figure size 2160x720 with 1 Axes>"
            ]
          },
          "metadata": {
            "needs_background": "light"
          }
        },
        {
          "output_type": "stream",
          "name": "stdout",
          "text": [
            "Optimal train alpha value:  0.001\n",
            "Optimal train rmse:  113.40552841336489\n",
            "Optimal test alpha value:  0.001\n",
            "Optimal test rmse:  114.88355845440145\n"
          ]
        }
      ]
    },
    {
      "cell_type": "code",
      "metadata": {
        "colab": {
          "base_uri": "https://localhost:8080/",
          "height": 578
        },
        "id": "JK4Qji9b_d59",
        "outputId": "40e1d694-40c7-402e-ec8e-6bb33a901a68"
      },
      "source": [
        "# night_time_data\n",
        "apply_Lasso(night_x_train, night_y_train, night_x_test, night_y_test)"
      ],
      "execution_count": 25,
      "outputs": [
        {
          "output_type": "display_data",
          "data": {
            "image/png": "[encoded data removed]",
            "text/plain": [
              "<Figure size 2160x720 with 1 Axes>"
            ]
          },
          "metadata": {
            "needs_background": "light"
          }
        },
        {
          "output_type": "stream",
          "name": "stdout",
          "text": [
            "Optimal train alpha value:  0.001\n",
            "Optimal train rmse:  6.393545687742567\n",
            "Optimal test alpha value:  0.001\n",
            "Optimal test rmse:  6.224946036999009\n"
          ]
        }
      ]
    },
    {
      "cell_type": "code",
      "metadata": {
        "colab": {
          "base_uri": "https://localhost:8080/"
        },
        "id": "lP0zer_t_itY",
        "outputId": "0953a651-f957-417d-acd8-ddeb77ab316e"
      },
      "source": [
        "# combining day and night time results\n",
        "day_lasso = Lasso(0.001)\n",
        "day_lasso.fit(day_x_train, day_y_train)\n",
        "night_lasso = Lasso(0.001)\n",
        "night_lasso.fit(night_x_train, night_y_train)\n",
        "\n",
        "day_y_train_pred = day_lasso.predict(day_x_train)\n",
        "night_y_train_pred = night_lasso.predict(night_x_train)\n",
        "train_rmse = combine_result(day_y_train, day_y_train_pred, night_y_train, night_y_train_pred)\n",
        "print(\"Train RMSE: \", train_rmse)\n",
        "\n",
        "day_y_test_pred = day_lasso.predict(day_x_test)\n",
        "night_y_test_pred = night_lasso.predict(night_x_test)\n",
        "test_rmse = combine_result(day_y_test, day_y_test_pred, night_y_test, night_y_test_pred)\n",
        "print(\"Test RMSE: \", test_rmse)"
      ],
      "execution_count": 26,
      "outputs": [
        {
          "output_type": "stream",
          "name": "stdout",
          "text": [
            "Train RMSE:  81.13461069290894\n",
            "Test RMSE:  82.18149974148092\n"
          ]
        }
      ]
    },
    {
      "cell_type": "markdown",
      "metadata": {
        "id": "hnNwrXQd4FRj"
      },
      "source": [
        "# Ridge Regression"
      ]
    },
    {
      "cell_type": "code",
      "metadata": {
        "id": "rDQhnmgxB2Gq"
      },
      "source": [
        "def apply_Ridge(x_train, y_train, x_test, y_test):\n",
        "  ridge_alpha_vec = np.arange(1e-3,3,0.1)\n",
        "  ridge_train_rmse = []\n",
        "  ridge_test_rmse = []\n",
        "\n",
        "  for alpha in ridge_alpha_vec:\n",
        "    ridge = Ridge(alpha)\n",
        "    ridge.fit(x_train, y_train)\n",
        "\n",
        "    y_train_pred = ridge.predict(x_train)\n",
        "    train_rmse = metrics.mean_squared_error(y_train, y_train_pred) ** 0.5\n",
        "    ridge_train_rmse.append(train_rmse)\n",
        "\n",
        "    y_test_pred = ridge.predict(x_test)\n",
        "    test_rmse = metrics.mean_squared_error(y_test, y_test_pred) ** 0.5\n",
        "    ridge_test_rmse.append(test_rmse)  \n",
        "\n",
        "  plt.figure(figsize=(30,10))\n",
        "  plt.plot(list(map(str, ridge_alpha_vec)), ridge_train_rmse, color='r')\n",
        "  plt.plot(list(map(str, ridge_alpha_vec)), ridge_test_rmse, color='y')\n",
        "  plt.title(\"Ridge: Training/Testing rmse with alpha\")\n",
        "  plt.xlabel(\"alpha\")\n",
        "  plt.ylabel(\"rmse\")\n",
        "  plt.show()\n",
        "\n",
        "  ridge_optimal_train_rmse = min(ridge_train_rmse)\n",
        "  optimal_i = ridge_train_rmse.index(ridge_optimal_train_rmse)\n",
        "  ridge_optimal_train_alpha = ridge_alpha_vec[optimal_i]\n",
        "  print(\"Optimal train alpha value: \", ridge_optimal_train_alpha)\n",
        "  print(\"Optimal train rmse: \", ridge_optimal_train_rmse)\n",
        "\n",
        "  ridge_optimal_test_rmse = min(ridge_test_rmse)\n",
        "  optimal_i = ridge_test_rmse.index(ridge_optimal_test_rmse)\n",
        "  ridge_optimal_test_alpha = ridge_alpha_vec[optimal_i]\n",
        "  print(\"Optimal test alpha value: \", ridge_optimal_test_alpha)\n",
        "  print(\"Optimal test rmse: \", ridge_optimal_test_rmse)"
      ],
      "execution_count": 27,
      "outputs": []
    },
    {
      "cell_type": "code",
      "metadata": {
        "colab": {
          "base_uri": "https://localhost:8080/",
          "height": 578
        },
        "id": "rmKqfkMeB2Gr",
        "outputId": "f34d81e1-e206-4873-e35b-93923048c57d"
      },
      "source": [
        "# whole data\n",
        "apply_Ridge(x_train, y_train, x_test, y_test)"
      ],
      "execution_count": 28,
      "outputs": [
        {
          "output_type": "display_data",
          "data": {
            "image/png": "[encoded data removed]",
            "text/plain": [
              "<Figure size 2160x720 with 1 Axes>"
            ]
          },
          "metadata": {
            "needs_background": "light"
          }
        },
        {
          "output_type": "stream",
          "name": "stdout",
          "text": [
            "Optimal train alpha value:  0.001\n",
            "Optimal train rmse:  151.55383578149304\n",
            "Optimal test alpha value:  0.101\n",
            "Optimal test rmse:  152.0168257664107\n"
          ]
        }
      ]
    },
    {
      "cell_type": "code",
      "metadata": {
        "colab": {
          "base_uri": "https://localhost:8080/",
          "height": 578
        },
        "id": "aCGvkv3sB2Gs",
        "outputId": "3fa11a4f-ba1c-4102-fba0-b4f1fb14d11e"
      },
      "source": [
        "# day_time_data\n",
        "apply_Ridge(day_x_train, day_y_train, day_x_test, day_y_test)"
      ],
      "execution_count": 29,
      "outputs": [
        {
          "output_type": "display_data",
          "data": {
            "image/png": "[encoded data removed]",
            "text/plain": [
              "<Figure size 2160x720 with 1 Axes>"
            ]
          },
          "metadata": {
            "needs_background": "light"
          }
        },
        {
          "output_type": "stream",
          "name": "stdout",
          "text": [
            "Optimal train alpha value:  0.001\n",
            "Optimal train rmse:  113.40550305009548\n",
            "Optimal test alpha value:  1.301\n",
            "Optimal test rmse:  114.87831043559359\n"
          ]
        }
      ]
    },
    {
      "cell_type": "code",
      "metadata": {
        "colab": {
          "base_uri": "https://localhost:8080/",
          "height": 578
        },
        "id": "_1qPsVZXB2Gt",
        "outputId": "3bd54572-363c-4979-c4a7-51d4b4a5d561"
      },
      "source": [
        "# night_time_data\n",
        "apply_Ridge(night_x_train, night_y_train, night_x_test, night_y_test)"
      ],
      "execution_count": 30,
      "outputs": [
        {
          "output_type": "display_data",
          "data": {
            "image/png": "[encoded data removed]",
            "text/plain": [
              "<Figure size 2160x720 with 1 Axes>"
            ]
          },
          "metadata": {
            "needs_background": "light"
          }
        },
        {
          "output_type": "stream",
          "name": "stdout",
          "text": [
            "Optimal train alpha value:  0.001\n",
            "Optimal train rmse:  6.3926241771098375\n",
            "Optimal test alpha value:  0.901\n",
            "Optimal test rmse:  6.2248161512794935\n"
          ]
        }
      ]
    },
    {
      "cell_type": "code",
      "metadata": {
        "colab": {
          "base_uri": "https://localhost:8080/"
        },
        "id": "GMm_srhfB2Gt",
        "outputId": "3e2e4b85-b006-4543-9508-8a9e936da56c"
      },
      "source": [
        "# combining day and night time results\n",
        "day_ridge = Ridge(0.701)\n",
        "day_ridge.fit(day_x_train, day_y_train)\n",
        "night_ridge = Ridge(1.501)\n",
        "night_ridge.fit(night_x_train, night_y_train)\n",
        "\n",
        "day_y_train_pred = day_ridge.predict(day_x_train)\n",
        "night_y_train_pred = night_ridge.predict(night_x_train)\n",
        "train_rmse = combine_result(day_y_train, day_y_train_pred, night_y_train, night_y_train_pred)\n",
        "print(\"Train RMSE: \", train_rmse)\n",
        "\n",
        "day_y_test_pred = day_ridge.predict(day_x_test)\n",
        "night_y_test_pred = night_ridge.predict(night_x_test)\n",
        "test_rmse = combine_result(day_y_test, day_y_test_pred, night_y_test, night_y_test_pred)\n",
        "print(\"Test RMSE: \", test_rmse)"
      ],
      "execution_count": 31,
      "outputs": [
        {
          "output_type": "stream",
          "name": "stdout",
          "text": [
            "Train RMSE:  81.13739429551177\n",
            "Test RMSE:  82.17835461406106\n"
          ]
        }
      ]
    },
    {
      "cell_type": "markdown",
      "metadata": {
        "id": "0tJBfoUY4HLU"
      },
      "source": [
        "# Polynomial Regression"
      ]
    },
    {
      "cell_type": "code",
      "metadata": {
        "id": "Hmz1uan7KjDr"
      },
      "source": [
        "def apply_polynomial_regression(x_train, y_train, x_test, y_test, n):\n",
        "  poly_reg = PolynomialFeatures(degree= n)\n",
        "  poly_x_train = poly_reg.fit_transform(x_train) \n",
        "  poly_x_test = poly_reg.fit_transform(x_test)\n",
        "  \n",
        "  print(poly_x_train.shape)\n",
        "\n",
        "  linear = LinearRegression()\n",
        "  linear.fit(poly_x_train, y_train)\n",
        "\n",
        "  print(\"n= \", n)\n",
        "  y_train_pred = linear.predict(poly_x_train)\n",
        "  train_rmse = metrics.mean_squared_error(y_train, y_train_pred) ** 0.5\n",
        "  print(\"Train RMSE: \", train_rmse)\n",
        "  y_test_pred = linear.predict(poly_x_test)\n",
        "  test_rmse = metrics.mean_squared_error(y_test, y_test_pred) ** 0.5\n",
        "  print(\"Test RMSE: \", test_rmse)"
      ],
      "execution_count": 32,
      "outputs": []
    },
    {
      "cell_type": "code",
      "metadata": {
        "id": "82kwAg96KmTi",
        "colab": {
          "base_uri": "https://localhost:8080/"
        },
        "outputId": "b9704a59-6555-4181-c7c2-6ac5b42e6d5e"
      },
      "source": [
        "# whole data\n",
        "for n in [2, 3, 4]:\n",
        "  apply_polynomial_regression(x_train, y_train, x_test, y_test, n)"
      ],
      "execution_count": 33,
      "outputs": [
        {
          "output_type": "stream",
          "name": "stdout",
          "text": [
            "(41817, 136)\n",
            "n=  2\n",
            "Train RMSE:  78.94815875127165\n",
            "Test RMSE:  79.76316347309206\n",
            "(41817, 816)\n",
            "n=  3\n",
            "Train RMSE:  69.4886579999666\n",
            "Test RMSE:  70.52791023793802\n",
            "(41817, 3876)\n",
            "n=  4\n",
            "Train RMSE:  51.97700864293026\n",
            "Test RMSE:  55.991477662151105\n"
          ]
        }
      ]
    },
    {
      "cell_type": "code",
      "metadata": {
        "id": "Q9AAxzZxKpA0",
        "colab": {
          "base_uri": "https://localhost:8080/"
        },
        "outputId": "84acb9da-1d1e-4060-fc41-a9c4db242c2e"
      },
      "source": [
        "# day_time_data\n",
        "for n in [2, 3, 4]:\n",
        "  apply_polynomial_regression(day_x_train, day_y_train, day_x_test, day_y_test, n)"
      ],
      "execution_count": 34,
      "outputs": [
        {
          "output_type": "stream",
          "name": "stdout",
          "text": [
            "(21339, 120)\n",
            "n=  2\n",
            "Train RMSE:  105.7743335551083\n",
            "Test RMSE:  107.38763474081033\n",
            "(21339, 680)\n",
            "n=  3\n",
            "Train RMSE:  88.52632167289764\n",
            "Test RMSE:  91.64781683677313\n",
            "(21339, 3060)\n",
            "n=  4\n",
            "Train RMSE:  63.07592683607227\n",
            "Test RMSE:  77.7846995811444\n"
          ]
        }
      ]
    },
    {
      "cell_type": "code",
      "metadata": {
        "id": "4gyWq0eVOR26",
        "colab": {
          "base_uri": "https://localhost:8080/"
        },
        "outputId": "75bc9230-20e3-4a79-891b-7fb56632e42e"
      },
      "source": [
        "# night_time_data\n",
        "for n in [2, 3, 4]:\n",
        "  apply_polynomial_regression(night_x_train, night_y_train, night_x_test, night_y_test, n)"
      ],
      "execution_count": 35,
      "outputs": [
        {
          "output_type": "stream",
          "name": "stdout",
          "text": [
            "(20478, 120)\n",
            "n=  2\n",
            "Train RMSE:  5.629558596699495\n",
            "Test RMSE:  5.547973314118362\n",
            "(20478, 680)\n",
            "n=  3\n",
            "Train RMSE:  4.524679098715154\n",
            "Test RMSE:  4.682002823672813\n",
            "(20478, 3060)\n",
            "n=  4\n",
            "Train RMSE:  3.01223034291004\n",
            "Test RMSE:  3.7496581410984495\n"
          ]
        }
      ]
    },
    {
      "cell_type": "code",
      "metadata": {
        "id": "2vGCjIMhOazO",
        "colab": {
          "base_uri": "https://localhost:8080/"
        },
        "outputId": "61b26111-87de-4138-dff5-a58ac9290689"
      },
      "source": [
        "# combining day and night time results\n",
        "day_poly_reg = PolynomialFeatures(degree= 4)\n",
        "poly_day_x_train = day_poly_reg.fit_transform(day_x_train) \n",
        "poly_day_x_test = day_poly_reg.fit_transform(day_x_test)\n",
        "\n",
        "night_poly_reg = PolynomialFeatures(degree= 4)\n",
        "poly_night_x_train = night_poly_reg.fit_transform(night_x_train) \n",
        "poly_night_x_test = night_poly_reg.fit_transform(night_x_test)\n",
        "\n",
        "day_linear = LinearRegression()\n",
        "day_linear.fit(poly_day_x_train, day_y_train)\n",
        "night_linear = LinearRegression()\n",
        "night_linear.fit(poly_night_x_train, night_y_train)\n",
        "\n",
        "day_y_train_pred = day_linear.predict(poly_day_x_train)\n",
        "night_y_train_pred = night_linear.predict(poly_night_x_train)\n",
        "train_rmse = combine_result(day_y_train, day_y_train_pred, night_y_train, night_y_train_pred)\n",
        "print(\"Train RMSE: \", train_rmse)\n",
        "\n",
        "day_y_test_pred = day_linear.predict(poly_day_x_test)\n",
        "night_y_test_pred = night_linear.predict(poly_night_x_test)\n",
        "test_rmse = combine_result(day_y_test, day_y_test_pred, night_y_test, night_y_test_pred)\n",
        "print(\"Test RMSE: \", test_rmse)"
      ],
      "execution_count": 36,
      "outputs": [
        {
          "output_type": "stream",
          "name": "stdout",
          "text": [
            "Train RMSE:  45.107521105826294\n",
            "Test RMSE:  55.626674792837434\n"
          ]
        }
      ]
    },
    {
      "cell_type": "markdown",
      "metadata": {
        "id": "kyhfw2l77VFN"
      },
      "source": [
        "# Feature Expansion"
      ]
    },
    {
      "cell_type": "markdown",
      "metadata": {
        "id": "Gcsv6vybc38F"
      },
      "source": [
        "## Single Model (Without PCA)"
      ]
    },
    {
      "cell_type": "code",
      "metadata": {
        "id": "x2N47b--c64u"
      },
      "source": [
        "def expand_features15(df, n):\n",
        "  list_df=[]\n",
        "  numpy_df=df.to_numpy()\n",
        "  final_df=numpy_df\n",
        "\n",
        "  for i in range(n):\n",
        "    list_df.append(df.to_numpy())\n",
        "    list_df[i][i+1:len(numpy_df),:]=numpy_df[:len(numpy_df)-(i+1),:]\n",
        "    final_df=np.concatenate((final_df,list_df[i]),axis=1)\n",
        "  \n",
        "  list_names=[\"Month\",\t\"Day\"\t,\"Hour\",\t\"Minute\",\t\"Temperature\",\t\"Cloud Type\",\t\"Dew Point\",\t\"Relative Humidity\",\t\"Solar Zenith Angle\",\t\"Surface Albedo\",\t\"Pressure\",\t\"Precipitable Water\",\t\"Wind Direction\",\t\"Wind Speed\", \"is_day\"]\n",
        "  for i in range(n):\n",
        "    for j in range(15):\n",
        "      list_names.append(list_names[j]+str(i))\n",
        "  \n",
        "\n",
        "  expanded_df = pd.DataFrame(final_df, columns = list_names)\n",
        "  return expanded_df,list_names"
      ],
      "execution_count": 37,
      "outputs": []
    },
    {
      "cell_type": "code",
      "metadata": {
        "id": "zI5IGlGpePuL"
      },
      "source": [
        "def feature_expansion15_withoutPCA(feature_df,GHI,n):\n",
        "  expanded_df, expanded_features_without=expand_features15(feature_df,n)\n",
        "  print(expanded_df.shape)\n",
        "\n",
        "  expanded_x_train, expanded_x_test, expanded_y_train, expanded_y_test = train_test_split(expanded_df, GHI, test_size=.20, random_state=42)\n",
        "\n",
        "  print(\"Whole Dataset Model\")\n",
        "  apply_LR(expanded_x_train, expanded_y_train, expanded_x_test, expanded_y_test)"
      ],
      "execution_count": 38,
      "outputs": []
    },
    {
      "cell_type": "code",
      "metadata": {
        "id": "bt7aGHEEfAFN",
        "colab": {
          "base_uri": "https://localhost:8080/"
        },
        "outputId": "04fb349d-3d86-4666-d9c1-b66a1abb6a6b"
      },
      "source": [
        "list_n=[1,2,3,4,5,10,15,20,25,30,35,40,45,50,55,60,75,100]\n",
        "\n",
        "for i in list_n:\n",
        "  print(i)\n",
        "  feature_expansion15_withoutPCA(feature_df,GHI,i)"
      ],
      "execution_count": 39,
      "outputs": [
        {
          "output_type": "stream",
          "name": "stdout",
          "text": [
            "1\n",
            "(52272, 30)\n",
            "Whole Dataset Model\n",
            "Train RMSE:  145.75308716497506\n",
            "Test RMSE:  147.68721941279728\n",
            "2\n",
            "(52272, 45)\n",
            "Whole Dataset Model\n",
            "Train RMSE:  143.21791047225625\n",
            "Test RMSE:  144.505818193798\n",
            "3\n",
            "(52272, 60)\n",
            "Whole Dataset Model\n",
            "Train RMSE:  140.56062859212412\n",
            "Test RMSE:  142.30291236998502\n",
            "4\n",
            "(52272, 75)\n",
            "Whole Dataset Model\n",
            "Train RMSE:  137.8637072437446\n",
            "Test RMSE:  139.94232973925108\n",
            "5\n",
            "(52272, 90)\n",
            "Whole Dataset Model\n",
            "Train RMSE:  134.92882235811217\n",
            "Test RMSE:  137.54002269057318\n",
            "10\n",
            "(52272, 165)\n",
            "Whole Dataset Model\n",
            "Train RMSE:  123.27374415251546\n",
            "Test RMSE:  126.16610928195871\n",
            "15\n",
            "(52272, 240)\n",
            "Whole Dataset Model\n",
            "Train RMSE:  116.46664577351576\n",
            "Test RMSE:  119.70866106720301\n",
            "20\n",
            "(52272, 315)\n",
            "Whole Dataset Model\n",
            "Train RMSE:  111.54917368964479\n",
            "Test RMSE:  115.21302056390218\n",
            "25\n",
            "(52272, 390)\n",
            "Whole Dataset Model\n",
            "Train RMSE:  107.35595686467299\n",
            "Test RMSE:  112.92460085017986\n",
            "30\n",
            "(52272, 465)\n",
            "Whole Dataset Model\n",
            "Train RMSE:  104.03066725402115\n",
            "Test RMSE:  112.74345426457387\n",
            "35\n",
            "(52272, 540)\n",
            "Whole Dataset Model\n",
            "Train RMSE:  101.1673056362934\n",
            "Test RMSE:  127.3810020431198\n",
            "40\n",
            "(52272, 615)\n",
            "Whole Dataset Model\n",
            "Train RMSE:  98.46231086420478\n",
            "Test RMSE:  122.58349846030963\n",
            "45\n",
            "(52272, 690)\n",
            "Whole Dataset Model\n",
            "Train RMSE:  95.4773242461175\n",
            "Test RMSE:  124.07363187267119\n",
            "50\n",
            "(52272, 765)\n",
            "Whole Dataset Model\n",
            "Train RMSE:  92.75793231147897\n",
            "Test RMSE:  116.67328544725304\n",
            "55\n",
            "(52272, 840)\n",
            "Whole Dataset Model\n",
            "Train RMSE:  90.23404708537478\n",
            "Test RMSE:  111.65047713123285\n",
            "60\n",
            "(52272, 915)\n",
            "Whole Dataset Model\n",
            "Train RMSE:  88.51551314957389\n",
            "Test RMSE:  111.04370356522448\n",
            "75\n",
            "(52272, 1140)\n",
            "Whole Dataset Model\n",
            "Train RMSE:  86.26231833263891\n",
            "Test RMSE:  119.65740773172264\n",
            "100\n",
            "(52272, 1515)\n",
            "Whole Dataset Model\n",
            "Train RMSE:  84.31045569096428\n",
            "Test RMSE:  272.58763371468973\n"
          ]
        }
      ]
    },
    {
      "cell_type": "markdown",
      "metadata": {
        "id": "Yq2g7gXPUy1d"
      },
      "source": [
        "## Day Night Model (Without PCA)"
      ]
    },
    {
      "cell_type": "code",
      "metadata": {
        "id": "pvPI-1F4uvFB"
      },
      "source": [
        "def expand_features(df, n):\n",
        "  list_df=[]\n",
        "  numpy_df=df.to_numpy()\n",
        "  final_df=numpy_df\n",
        "\n",
        "  for i in range(n):\n",
        "    list_df.append(df.to_numpy())\n",
        "    list_df[i][i+1:len(numpy_df),:]=numpy_df[:len(numpy_df)-(i+1),:]\n",
        "    final_df=np.concatenate((final_df,list_df[i]),axis=1)\n",
        "  \n",
        "  list_names=[\"Month\",\t\"Day\"\t,\"Hour\",\t\"Minute\",\t\"Temperature\",\t\"Cloud Type\",\t\"Dew Point\",\t\"Relative Humidity\",\t\"Solar Zenith Angle\",\t\"Surface Albedo\",\t\"Pressure\",\t\"Precipitable Water\",\t\"Wind Direction\",\t\"Wind Speed\"]\n",
        "  for i in range(n):\n",
        "    for j in range(14):\n",
        "      list_names.append(list_names[j]+str(i))\n",
        "  \n",
        "\n",
        "  expanded_df = pd.DataFrame(final_df, columns = list_names)\n",
        "  return expanded_df,list_names"
      ],
      "execution_count": 40,
      "outputs": []
    },
    {
      "cell_type": "code",
      "metadata": {
        "id": "WViyT0-q81UP"
      },
      "source": [
        "def feature_expansion_withoutPCA(day_feature_df,night_feature_df,day_GHI,night_GHI,n):\n",
        "  expanded_day_df, expanded_features_without=expand_features(day_feature_df,n)\n",
        "  expanded_night_df, expanded_features_without=expand_features(night_feature_df,n)\n",
        "  print(expanded_day_df.shape)\n",
        "\n",
        "  expanded_day_x_train, expanded_day_x_test, expanded_day_y_train, expanded_day_y_test = train_test_split(expanded_day_df, day_GHI, test_size=.20, random_state=42)\n",
        "  expanded_night_x_train, expanded_night_x_test, expanded_night_y_train, expanded_night_y_test = train_test_split(expanded_night_df, night_GHI, test_size=.20, random_state=42)\n",
        "\n",
        "  print(\"Day Time Model\")\n",
        "  apply_LR(expanded_day_x_train, expanded_day_y_train, expanded_day_x_test, expanded_day_y_test)\n",
        "\n",
        "  print(\"Night Time Model\")\n",
        "  apply_LR(expanded_night_x_train, expanded_night_y_train, expanded_night_x_test, expanded_night_y_test)\n",
        "\n",
        "\n",
        "  print(\"Combined Model\")\n",
        "  day_linear = LinearRegression()\n",
        "  day_linear.fit(expanded_day_x_train, expanded_day_y_train)\n",
        "  night_linear = LinearRegression()\n",
        "  night_linear.fit(expanded_night_x_train, expanded_night_y_train)\n",
        "\n",
        "  day_y_train_pred = day_linear.predict(expanded_day_x_train)\n",
        "  night_y_train_pred = night_linear.predict(expanded_night_x_train)\n",
        "  train_rmse = combine_result(expanded_day_y_train, day_y_train_pred, expanded_night_y_train, night_y_train_pred)\n",
        "  print(\"Train RMSE: \", train_rmse)\n",
        "\n",
        "  day_y_test_pred = day_linear.predict(expanded_day_x_test)\n",
        "  night_y_test_pred = night_linear.predict(expanded_night_x_test)\n",
        "  test_rmse = combine_result(expanded_day_y_test, day_y_test_pred, expanded_night_y_test, night_y_test_pred)\n",
        "  print(\"Test RMSE: \", test_rmse)"
      ],
      "execution_count": 41,
      "outputs": []
    },
    {
      "cell_type": "code",
      "metadata": {
        "id": "95OzEzkP-KVh",
        "colab": {
          "base_uri": "https://localhost:8080/"
        },
        "outputId": "f85a3d90-7415-41d1-8651-1b5774cf5a3c"
      },
      "source": [
        "list_n=[1,2,3,4,5,10,15,20,25,30,35,40,45,50,55,60,75,100]\n",
        "\n",
        "for i in list_n:\n",
        "  print(i)\n",
        "  feature_expansion_withoutPCA(day_feature_df,night_feature_df,day_GHI,night_GHI,i)"
      ],
      "execution_count": 42,
      "outputs": [
        {
          "output_type": "stream",
          "name": "stdout",
          "text": [
            "1\n",
            "(26674, 28)\n",
            "Day Time Model\n",
            "Train RMSE:  113.1911480707158\n",
            "Test RMSE:  114.93920406393704\n",
            "Night Time Model\n",
            "Train RMSE:  6.121855381358566\n",
            "Test RMSE:  5.986153348395325\n",
            "Combined Model\n",
            "Train RMSE:  80.97142003607642\n",
            "Test RMSE:  82.21250956938489\n",
            "2\n",
            "(26674, 42)\n",
            "Day Time Model\n",
            "Train RMSE:  113.00755204578685\n",
            "Test RMSE:  115.0026626214298\n",
            "Night Time Model\n",
            "Train RMSE:  6.013043563335241\n",
            "Test RMSE:  5.9539256418023045\n",
            "Combined Model\n",
            "Train RMSE:  80.83645290300272\n",
            "Test RMSE:  82.25663626857363\n",
            "3\n",
            "(26674, 56)\n",
            "Day Time Model\n",
            "Train RMSE:  112.87107223647936\n",
            "Test RMSE:  114.84560289139245\n",
            "Night Time Model\n",
            "Train RMSE:  5.959605682948458\n",
            "Test RMSE:  5.889975440660579\n",
            "Combined Model\n",
            "Train RMSE:  80.73715070355944\n",
            "Test RMSE:  82.1423286123892\n",
            "4\n",
            "(26674, 70)\n",
            "Day Time Model\n",
            "Train RMSE:  112.75862335096964\n",
            "Test RMSE:  114.70365984215421\n",
            "Night Time Model\n",
            "Train RMSE:  5.925756698605809\n",
            "Test RMSE:  5.8476682818682795\n",
            "Combined Model\n",
            "Train RMSE:  80.65570896526017\n",
            "Test RMSE:  82.03957873272591\n",
            "5\n",
            "(26674, 84)\n",
            "Day Time Model\n",
            "Train RMSE:  112.63617962096625\n",
            "Test RMSE:  114.65591097592491\n",
            "Night Time Model\n",
            "Train RMSE:  5.895410826116193\n",
            "Test RMSE:  5.838491470397497\n",
            "Combined Model\n",
            "Train RMSE:  80.56726699087397\n",
            "Test RMSE:  82.0051920552073\n",
            "10\n",
            "(26674, 154)\n",
            "Day Time Model\n",
            "Train RMSE:  112.05921940294712\n",
            "Test RMSE:  113.86768587801886\n",
            "Night Time Model\n",
            "Train RMSE:  5.830640091371718\n",
            "Test RMSE:  5.778726416304024\n",
            "Combined Model\n",
            "Train RMSE:  80.15333926540286\n",
            "Test RMSE:  81.44074771455949\n",
            "15\n",
            "(26674, 224)\n",
            "Day Time Model\n",
            "Train RMSE:  111.38272542906743\n",
            "Test RMSE:  113.56731103980133\n",
            "Night Time Model\n",
            "Train RMSE:  5.793007177055768\n",
            "Test RMSE:  5.743040451881305\n",
            "Combined Model\n",
            "Train RMSE:  79.66937226646606\n",
            "Test RMSE:  81.22520375168851\n",
            "20\n",
            "(26674, 294)\n",
            "Day Time Model\n",
            "Train RMSE:  110.80966356323493\n",
            "Test RMSE:  113.25699635874528\n",
            "Night Time Model\n",
            "Train RMSE:  5.755862967975176\n",
            "Test RMSE:  5.715834518413459\n",
            "Combined Model\n",
            "Train RMSE:  79.25921378834032\n",
            "Test RMSE:  81.00286334043828\n",
            "25\n",
            "(26674, 364)\n",
            "Day Time Model\n",
            "Train RMSE:  110.19316691873894\n",
            "Test RMSE:  112.8936720305462\n",
            "Night Time Model\n",
            "Train RMSE:  5.721125653182273\n",
            "Test RMSE:  5.707383903794805\n",
            "Combined Model\n",
            "Train RMSE:  78.81815358567825\n",
            "Test RMSE:  80.74335100166348\n",
            "30\n",
            "(26674, 434)\n",
            "Day Time Model\n",
            "Train RMSE:  109.39240688769627\n",
            "Test RMSE:  112.88726735477044\n",
            "Night Time Model\n",
            "Train RMSE:  5.59525079348462\n",
            "Test RMSE:  5.577893058276934\n",
            "Combined Model\n",
            "Train RMSE:  78.24241752651055\n",
            "Test RMSE:  80.7343495128936\n",
            "35\n",
            "(26674, 504)\n",
            "Day Time Model\n",
            "Train RMSE:  108.53541673339905\n",
            "Test RMSE:  112.35664209556138\n",
            "Night Time Model\n",
            "Train RMSE:  5.501317644839652\n",
            "Test RMSE:  5.514556174353248\n",
            "Combined Model\n",
            "Train RMSE:  77.62771267897016\n",
            "Test RMSE:  80.35360698528434\n",
            "40\n",
            "(26674, 574)\n",
            "Day Time Model\n",
            "Train RMSE:  107.89956042222654\n",
            "Test RMSE:  112.24511604738959\n",
            "Night Time Model\n",
            "Train RMSE:  5.462784421001034\n",
            "Test RMSE:  5.515306962494638\n",
            "Combined Model\n",
            "Train RMSE:  77.17271096021504\n",
            "Test RMSE:  80.27405670811244\n",
            "45\n",
            "(26674, 644)\n",
            "Day Time Model\n",
            "Train RMSE:  107.4813672677845\n",
            "Test RMSE:  112.26925654735332\n",
            "Night Time Model\n",
            "Train RMSE:  5.443564393229837\n",
            "Test RMSE:  5.505840793314274\n",
            "Combined Model\n",
            "Train RMSE:  76.87367549287195\n",
            "Test RMSE:  80.29096313937912\n",
            "50\n",
            "(26674, 714)\n",
            "Day Time Model\n",
            "Train RMSE:  107.09124793141712\n",
            "Test RMSE:  112.61123754151373\n",
            "Night Time Model\n",
            "Train RMSE:  5.401015609924918\n",
            "Test RMSE:  5.476099451925894\n",
            "Combined Model\n",
            "Train RMSE:  76.59386259847835\n",
            "Test RMSE:  80.5339803249853\n",
            "55\n",
            "(26674, 784)\n",
            "Day Time Model\n",
            "Train RMSE:  106.61276250034058\n",
            "Test RMSE:  113.02442397093292\n",
            "Night Time Model\n",
            "Train RMSE:  5.330973850447609\n",
            "Test RMSE:  5.419237403912164\n",
            "Combined Model\n",
            "Train RMSE:  76.25006138965765\n",
            "Test RMSE:  80.82692614429135\n",
            "60\n",
            "(26674, 854)\n",
            "Day Time Model\n",
            "Train RMSE:  106.20090769918153\n",
            "Test RMSE:  112.97203129195445\n",
            "Night Time Model\n",
            "Train RMSE:  5.190891461996572\n",
            "Test RMSE:  5.33956921879857\n",
            "Combined Model\n",
            "Train RMSE:  75.95145541009015\n",
            "Test RMSE:  80.78694331027663\n",
            "75\n",
            "(26674, 1064)\n",
            "Day Time Model\n",
            "Train RMSE:  105.14205363361334\n",
            "Test RMSE:  111.63509791893561\n",
            "Night Time Model\n",
            "Train RMSE:  4.959099526967918\n",
            "Test RMSE:  5.144405984913068\n",
            "Combined Model\n",
            "Train RMSE:  75.18827689661762\n",
            "Test RMSE:  79.82667627062547\n",
            "100\n",
            "(26674, 1414)\n",
            "Day Time Model\n",
            "Train RMSE:  103.99994427089331\n",
            "Test RMSE:  111.75308397624377\n",
            "Night Time Model\n",
            "Train RMSE:  4.766507727285739\n",
            "Test RMSE:  5.045726400203506\n",
            "Combined Model\n",
            "Train RMSE:  74.36712413453137\n",
            "Test RMSE:  79.90779157178979\n"
          ]
        }
      ]
    },
    {
      "cell_type": "markdown",
      "metadata": {
        "id": "I5ogejp8U0ns"
      },
      "source": [
        "## With PCA (Day Night)"
      ]
    },
    {
      "cell_type": "code",
      "metadata": {
        "colab": {
          "base_uri": "https://localhost:8080/",
          "height": 541
        },
        "id": "sHOIxOX1CP3J",
        "outputId": "711eb214-2024-4a7d-bd02-b1f3fa7cd588"
      },
      "source": [
        "expanded_day_df, expanded_features_without=expand_features(day_feature_df,1)\n",
        "expanded_night_df, expanded_features_without=expand_features(night_feature_df,1)\n",
        "\n",
        "day_pca = PCA().fit(expanded_day_df)\n",
        "plt.plot(np.cumsum(day_pca.explained_variance_ratio_))\n",
        "plt.xlabel('number of components')\n",
        "plt.ylabel('cumulative explained variance')\n",
        "plt.show()\n",
        "\n",
        "night_pca = PCA().fit(expanded_night_df)\n",
        "plt.plot(np.cumsum(night_pca.explained_variance_ratio_))\n",
        "plt.xlabel('number of components')\n",
        "plt.ylabel('cumulative explained variance')\n",
        "plt.show()"
      ],
      "execution_count": 43,
      "outputs": [
        {
          "output_type": "display_data",
          "data": {
            "image/png": "[encoded data removed]",
            "text/plain": [
              "<Figure size 432x288 with 1 Axes>"
            ]
          },
          "metadata": {
            "needs_background": "light"
          }
        },
        {
          "output_type": "display_data",
          "data": {
            "image/png": "[encoded data removed]",
            "text/plain": [
              "<Figure size 432x288 with 1 Axes>"
            ]
          },
          "metadata": {
            "needs_background": "light"
          }
        }
      ]
    },
    {
      "cell_type": "code",
      "metadata": {
        "colab": {
          "base_uri": "https://localhost:8080/"
        },
        "id": "4qkRDgBTCX9I",
        "outputId": "a62f9391-fb63-4237-99ce-23376ea109b5"
      },
      "source": [
        "num_features = 7\n",
        "\n",
        "day_num_features=num_features\n",
        "\n",
        "day_pca = PCA(n_components=day_num_features)\n",
        "day_pca_feature_df = day_pca.fit_transform(expanded_day_df)\n",
        "# print('Variance of each component:', pca.explained_variance_ratio_)\n",
        "print('\\n Total Variance Explained:', round(sum(list(day_pca.explained_variance_ratio_))*100, 2))\n",
        "\n",
        "night_num_features=num_features\n",
        "night_pca = PCA(n_components=night_num_features)\n",
        "night_pca_feature_df = night_pca.fit_transform(expanded_night_df)\n",
        "# print('Variance of each component:', pca.explained_variance_ratio_)\n",
        "print('\\n Total Variance Explained:', round(sum(list(night_pca.explained_variance_ratio_))*100, 2))\n",
        "\n",
        "list_names_pca=[]\n",
        "for i in range(num_features):\n",
        "  list_names_pca.append(\"pca_component\"+str(i+1))"
      ],
      "execution_count": 44,
      "outputs": [
        {
          "output_type": "stream",
          "name": "stdout",
          "text": [
            "\n",
            " Total Variance Explained: 99.53\n",
            "\n",
            " Total Variance Explained: 98.89\n"
          ]
        }
      ]
    },
    {
      "cell_type": "code",
      "metadata": {
        "id": "qSNlYViKCvXm",
        "colab": {
          "base_uri": "https://localhost:8080/"
        },
        "outputId": "fd7a91f8-e93c-4118-bb9d-61bef95e33cc"
      },
      "source": [
        "day_pca_feature_dataframe=pd.DataFrame(day_pca_feature_df,columns=list_names_pca)\n",
        "night_pca_feature_dataframe=pd.DataFrame(night_pca_feature_df,columns=list_names_pca)\n",
        "expanded_day_x_train, expanded_day_x_test, expanded_day_y_train, expanded_day_y_test = train_test_split(day_pca_feature_dataframe, day_GHI, test_size=.20, random_state=42)\n",
        "expanded_night_x_train, expanded_night_x_test, expanded_night_y_train, expanded_night_y_test = train_test_split(night_pca_feature_dataframe, night_GHI, test_size=.20, random_state=42)\n",
        "\n",
        "print(\"Combined Model\")\n",
        "day_linear = LinearRegression()\n",
        "day_linear.fit(expanded_day_x_train, expanded_day_y_train)\n",
        "night_linear = LinearRegression()\n",
        "night_linear.fit(expanded_night_x_train, expanded_night_y_train)\n",
        "\n",
        "day_y_train_pred = day_linear.predict(expanded_day_x_train)\n",
        "night_y_train_pred = night_linear.predict(expanded_night_x_train)\n",
        "train_rmse = combine_result(expanded_day_y_train, day_y_train_pred, expanded_night_y_train, night_y_train_pred)\n",
        "print(\"Train RMSE: \", train_rmse)\n",
        "\n",
        "day_y_test_pred = day_linear.predict(expanded_day_x_test)\n",
        "night_y_test_pred = night_linear.predict(expanded_night_x_test)\n",
        "test_rmse = combine_result(expanded_day_y_test, day_y_test_pred, expanded_night_y_test, night_y_test_pred)\n",
        "print(\"Test RMSE: \", test_rmse)"
      ],
      "execution_count": 45,
      "outputs": [
        {
          "output_type": "stream",
          "name": "stdout",
          "text": [
            "Combined Model\n",
            "Train RMSE:  82.90040019950882\n",
            "Test RMSE:  83.83931492391936\n"
          ]
        }
      ]
    },
    {
      "cell_type": "code",
      "metadata": {
        "id": "esP7pqcZFrMq",
        "colab": {
          "base_uri": "https://localhost:8080/"
        },
        "outputId": "f64ef1e0-5ad3-455a-9888-36bada3efcd0"
      },
      "source": [
        "day_pca_feature_dataframe=pd.DataFrame(day_pca_feature_df,columns=list_names_pca)\n",
        "\n",
        "night_pca_feature_dataframe=pd.DataFrame(night_pca_feature_df,columns=list_names_pca)\n",
        "\n",
        "expanded_day_x_train, expanded_day_x_test, expanded_day_y_train, expanded_day_y_test = train_test_split(day_pca_feature_dataframe, day_GHI, test_size=.20, random_state=42)\n",
        "expanded_night_x_train, expanded_night_x_test, expanded_night_y_train, expanded_night_y_test = train_test_split(night_pca_feature_dataframe, night_GHI, test_size=.20, random_state=42)\n",
        "\n",
        "apply_LR(expanded_day_x_train, expanded_day_y_train, expanded_day_x_test, expanded_day_y_test)\n",
        "apply_LR(expanded_night_x_train, expanded_night_y_train, expanded_night_x_test, expanded_night_y_test)"
      ],
      "execution_count": 46,
      "outputs": [
        {
          "output_type": "stream",
          "name": "stdout",
          "text": [
            "Train RMSE:  115.8801359798128\n",
            "Test RMSE:  117.20687292609013\n",
            "Train RMSE:  6.4117349624838305\n",
            "Test RMSE:  6.237719792444703\n"
          ]
        }
      ]
    },
    {
      "cell_type": "code",
      "metadata": {
        "id": "tpY4urU6GvFK",
        "colab": {
          "base_uri": "https://localhost:8080/"
        },
        "outputId": "fb72c67e-cc2b-477b-b40f-91113a1ccc5d"
      },
      "source": [
        "print(\"Combined Model\")\n",
        "day_linear = LinearRegression()\n",
        "day_linear.fit(expanded_day_x_train, expanded_day_y_train)\n",
        "night_linear = LinearRegression()\n",
        "night_linear.fit(expanded_night_x_train, expanded_night_y_train)\n",
        "\n",
        "day_y_train_pred = day_linear.predict(expanded_day_x_train)\n",
        "night_y_train_pred = night_linear.predict(expanded_night_x_train)\n",
        "train_rmse = combine_result(expanded_day_y_train, day_y_train_pred, expanded_night_y_train, night_y_train_pred)\n",
        "print(\"Train RMSE: \", train_rmse)\n",
        "\n",
        "day_y_test_pred = day_linear.predict(expanded_day_x_test)\n",
        "night_y_test_pred = night_linear.predict(expanded_night_x_test)\n",
        "test_rmse = combine_result(expanded_day_y_test, day_y_test_pred, expanded_night_y_test, night_y_test_pred)\n",
        "print(\"Test RMSE: \", test_rmse)"
      ],
      "execution_count": 47,
      "outputs": [
        {
          "output_type": "stream",
          "name": "stdout",
          "text": [
            "Combined Model\n",
            "Train RMSE:  82.90040019950882\n",
            "Test RMSE:  83.83931492391936\n"
          ]
        }
      ]
    },
    {
      "cell_type": "markdown",
      "metadata": {
        "id": "kwKd_VoZZKaH"
      },
      "source": [
        "# With PCA (Single)"
      ]
    },
    {
      "cell_type": "code",
      "metadata": {
        "colab": {
          "base_uri": "https://localhost:8080/",
          "height": 279
        },
        "id": "wYsSl980ZaSD",
        "outputId": "2612360e-f465-4402-fe52-88f7a31366de"
      },
      "source": [
        "expanded_df, expanded_features_without=expand_features15(feature_df,5)\n",
        "\n",
        "pca = PCA().fit(expanded_df)\n",
        "plt.plot(np.cumsum(pca.explained_variance_ratio_))\n",
        "plt.xlabel('number of components')\n",
        "plt.ylabel('cumulative explained variance')\n",
        "plt.show()"
      ],
      "execution_count": 48,
      "outputs": [
        {
          "output_type": "display_data",
          "data": {
            "image/png": "[encoded data removed]",
            "text/plain": [
              "<Figure size 432x288 with 1 Axes>"
            ]
          },
          "metadata": {
            "needs_background": "light"
          }
        }
      ]
    },
    {
      "cell_type": "code",
      "metadata": {
        "colab": {
          "base_uri": "https://localhost:8080/"
        },
        "id": "3wuxSqdwaCXm",
        "outputId": "2f64d00b-efc6-4aa2-d733-4ea5481a6fd0"
      },
      "source": [
        "num_features = 15\n",
        "\n",
        "pca = PCA(n_components=num_features)\n",
        "pca_feature_df = pca.fit_transform(expanded_df)\n",
        "# print('Variance of each component:', pca.explained_variance_ratio_)\n",
        "print('\\n Total Variance Explained:', round(sum(list(pca.explained_variance_ratio_))*100, 2))\n",
        "\n",
        "list_names_pca=[]\n",
        "for i in range(num_features):\n",
        "  list_names_pca.append(\"pca_component\"+str(i+1))"
      ],
      "execution_count": 49,
      "outputs": [
        {
          "output_type": "stream",
          "name": "stdout",
          "text": [
            "\n",
            " Total Variance Explained: 99.83\n"
          ]
        }
      ]
    },
    {
      "cell_type": "code",
      "metadata": {
        "colab": {
          "base_uri": "https://localhost:8080/"
        },
        "id": "UWq9FasRb060",
        "outputId": "8054c7dd-e7fd-49ad-ec10-9ce762084425"
      },
      "source": [
        "pca_feature_dataframe=pd.DataFrame(pca_feature_df, columns=list_names_pca)\n",
        "expanded_x_train, expanded_x_test, expanded_y_train, expanded_y_test = train_test_split(pca_feature_dataframe, GHI, test_size=.20, random_state=42)\n",
        "\n",
        "print(\"Whole Dataset Model\")\n",
        "apply_LR(expanded_x_train, expanded_y_train, expanded_x_test, expanded_y_test)"
      ],
      "execution_count": 50,
      "outputs": [
        {
          "output_type": "stream",
          "name": "stdout",
          "text": [
            "Whole Dataset Model\n",
            "Train RMSE:  161.53142967454795\n",
            "Test RMSE:  161.5475791923635\n"
          ]
        }
      ]
    }
  ]
}